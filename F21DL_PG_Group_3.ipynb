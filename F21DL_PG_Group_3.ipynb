{
  "nbformat": 4,
  "nbformat_minor": 0,
  "metadata": {
    "colab": {
      "provenance": [],
      "authorship_tag": "ABX9TyON27oEDSLPI6Ua55PW/yFh",
      "include_colab_link": true
    },
    "kernelspec": {
      "name": "python3",
      "display_name": "Python 3"
    },
    "language_info": {
      "name": "python"
    }
  },
  "cells": [
    {
      "cell_type": "markdown",
      "metadata": {
        "id": "view-in-github",
        "colab_type": "text"
      },
      "source": [
        "<a href=\"https://colab.research.google.com/github/Gowresh-HW/DMLL-F21DL/blob/sheetal/F21DL_PG_Group_3.ipynb\" target=\"_parent\"><img src=\"https://colab.research.google.com/assets/colab-badge.svg\" alt=\"Open In Colab\"/></a>"
      ]
    },
    {
      "cell_type": "markdown",
      "source": [],
      "metadata": {
        "id": "H18tQLp_AUzY"
      }
    },
    {
      "cell_type": "markdown",
      "source": [
        "#Finalization of data set - Lab1\n",
        "##Forest Fire Dataset \n",
        "\n",
        "The dataset is generally obtained from a satellite called MODIS based on hotspots of forest fire in Turkey. There are totally 36,011 records/instances in the dataset with each row pertaining to the satellite readings within a specific time interval. The columns represent 15 attributes/features. The target feature is the 'confidence' which helps to gauge the quality of the hotspot/fire. The 'confidence ' attribute is logged in terms of percentage, which can be represented as a nominal data with three categories Low, Nominal/Medium and High. This dataset can be used to train a model to predict whether the confidence of the forest fire is Low, Nominal or High.\n",
        "\n"
      ],
      "metadata": {
        "id": "3OjlvZsOAXb5"
      }
    },
    {
      "cell_type": "code",
      "source": [],
      "metadata": {
        "id": "WRu-YziOBCwh"
      },
      "execution_count": null,
      "outputs": []
    }
  ]
}