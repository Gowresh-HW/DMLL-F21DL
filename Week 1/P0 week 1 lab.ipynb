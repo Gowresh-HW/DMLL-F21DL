{
 "cells": [
  {
   "cell_type": "code",
   "execution_count": 1,
   "id": "f5cd0aac",
   "metadata": {},
   "outputs": [
    {
     "data": {
      "text/plain": [
       "1"
      ]
     },
     "execution_count": 1,
     "metadata": {},
     "output_type": "execute_result"
    }
   ],
   "source": [
    "1 #integer"
   ]
  },
  {
   "cell_type": "code",
   "execution_count": 4,
   "id": "4320a265",
   "metadata": {},
   "outputs": [
    {
     "data": {
      "text/plain": [
       "1"
      ]
     },
     "execution_count": 4,
     "metadata": {},
     "output_type": "execute_result"
    }
   ],
   "source": [
    "int (1) #same as the previous code"
   ]
  },
  {
   "cell_type": "code",
   "execution_count": 5,
   "id": "3a3d9684",
   "metadata": {},
   "outputs": [
    {
     "data": {
      "text/plain": [
       "1.0"
      ]
     },
     "execution_count": 5,
     "metadata": {},
     "output_type": "execute_result"
    }
   ],
   "source": [
    "1.0 #float"
   ]
  },
  {
   "cell_type": "code",
   "execution_count": 6,
   "id": "e796ecec",
   "metadata": {},
   "outputs": [
    {
     "data": {
      "text/plain": [
       "1.0"
      ]
     },
     "execution_count": 6,
     "metadata": {},
     "output_type": "execute_result"
    }
   ],
   "source": [
    "float (1.0) #same as the previous code"
   ]
  },
  {
   "cell_type": "code",
   "execution_count": 7,
   "id": "71c983db",
   "metadata": {},
   "outputs": [
    {
     "data": {
      "text/plain": [
       "1"
      ]
     },
     "execution_count": 7,
     "metadata": {},
     "output_type": "execute_result"
    }
   ],
   "source": [
    "int (\"1\") #converting string to int"
   ]
  },
  {
   "cell_type": "code",
   "execution_count": 8,
   "id": "90125370",
   "metadata": {},
   "outputs": [
    {
     "data": {
      "text/plain": [
       "1"
      ]
     },
     "execution_count": 8,
     "metadata": {},
     "output_type": "execute_result"
    }
   ],
   "source": [
    "int (1.6) #converting float to int"
   ]
  },
  {
   "cell_type": "code",
   "execution_count": 10,
   "id": "7852979c",
   "metadata": {},
   "outputs": [
    {
     "data": {
      "text/plain": [
       "1"
      ]
     },
     "execution_count": 10,
     "metadata": {},
     "output_type": "execute_result"
    }
   ],
   "source": [
    "int (True) #converting boolean to int"
   ]
  },
  {
   "cell_type": "code",
   "execution_count": 11,
   "id": "ed633499",
   "metadata": {},
   "outputs": [
    {
     "name": "stdout",
     "output_type": "stream",
     "text": [
      "3\n"
     ]
    }
   ],
   "source": [
    "a = 1 + 2 #create and assign to a variable; then print\n",
    "print (a)"
   ]
  },
  {
   "cell_type": "code",
   "execution_count": 12,
   "id": "b2ac0b35",
   "metadata": {},
   "outputs": [
    {
     "data": {
      "text/plain": [
       "range(0, 10)"
      ]
     },
     "execution_count": 12,
     "metadata": {},
     "output_type": "execute_result"
    }
   ],
   "source": [
    "range (0,10) #0,1,2,3,4,5,6,7,8,9"
   ]
  },
  {
   "cell_type": "code",
   "execution_count": 13,
   "id": "a1582f3d",
   "metadata": {},
   "outputs": [
    {
     "ename": "SyntaxError",
     "evalue": "invalid syntax (3775711695.py, line 1)",
     "output_type": "error",
     "traceback": [
      "\u001b[1;36m  Input \u001b[1;32mIn [13]\u001b[1;36m\u001b[0m\n\u001b[1;33m    range 10\u001b[0m\n\u001b[1;37m          ^\u001b[0m\n\u001b[1;31mSyntaxError\u001b[0m\u001b[1;31m:\u001b[0m invalid syntax\n"
     ]
    }
   ],
   "source": [
    "range 10"
   ]
  },
  {
   "cell_type": "code",
   "execution_count": 14,
   "id": "080ea197",
   "metadata": {},
   "outputs": [
    {
     "data": {
      "text/plain": [
       "range(0, 10)"
      ]
     },
     "execution_count": 14,
     "metadata": {},
     "output_type": "execute_result"
    }
   ],
   "source": [
    "range (10) #same as the previous code"
   ]
  },
  {
   "cell_type": "code",
   "execution_count": 19,
   "id": "e643a84e",
   "metadata": {},
   "outputs": [
    {
     "name": "stdout",
     "output_type": "stream",
     "text": [
      "0\n",
      "1\n",
      "2\n",
      "3\n",
      "4\n",
      "5\n",
      "6\n",
      "7\n",
      "8\n",
      "9\n"
     ]
    }
   ],
   "source": [
    "b = range(0,10) #assign the range to the variable and use a for loop to access; then print\n",
    "for i in b:\n",
    "    print(i)"
   ]
  },
  {
   "cell_type": "code",
   "execution_count": 20,
   "id": "3ba9dcdd",
   "metadata": {},
   "outputs": [
    {
     "name": "stdout",
     "output_type": "stream",
     "text": [
      "[1, 2, 3]\n"
     ]
    }
   ],
   "source": [
    "L = [1,2,3] #create a list\n",
    "print (L)"
   ]
  },
  {
   "cell_type": "code",
   "execution_count": 21,
   "id": "c5382a98",
   "metadata": {},
   "outputs": [
    {
     "data": {
      "text/plain": [
       "(1, 2, 3)"
      ]
     },
     "execution_count": 21,
     "metadata": {},
     "output_type": "execute_result"
    }
   ],
   "source": [
    "L[0], L[1], L[2] #indexing"
   ]
  },
  {
   "cell_type": "code",
   "execution_count": 22,
   "id": "bd155d74",
   "metadata": {},
   "outputs": [
    {
     "data": {
      "text/plain": [
       "(3, 2, 1)"
      ]
     },
     "execution_count": 22,
     "metadata": {},
     "output_type": "execute_result"
    }
   ],
   "source": [
    "L[-1], L[-2], L[-3] #indexing displayed in the reverse order"
   ]
  },
  {
   "cell_type": "code",
   "execution_count": 24,
   "id": "670847ae",
   "metadata": {},
   "outputs": [
    {
     "data": {
      "text/plain": [
       "4"
      ]
     },
     "execution_count": 24,
     "metadata": {},
     "output_type": "execute_result"
    }
   ],
   "source": [
    "L[0] = 4 #list are mutable ie. the changed data is replaced at the same index\n",
    "L[0]"
   ]
  },
  {
   "cell_type": "code",
   "execution_count": 30,
   "id": "b9bde4fd",
   "metadata": {},
   "outputs": [
    {
     "name": "stdout",
     "output_type": "stream",
     "text": [
      "list assignment index out of range\n"
     ]
    }
   ],
   "source": [
    "L = [1, 2, 3]\n",
    "try:\n",
    "    L[3] = 4  # not allowed, tuples are immutable\n",
    "except Exception as e:\n",
    "    print(e)"
   ]
  },
  {
   "cell_type": "code",
   "execution_count": 31,
   "id": "c9d00a58",
   "metadata": {},
   "outputs": [
    {
     "name": "stdout",
     "output_type": "stream",
     "text": [
      "'tuple' object does not support item assignment\n"
     ]
    }
   ],
   "source": [
    "T = (1, 2, 3) #create tuples\n",
    "try:\n",
    "    T[0] = 4  # not allowed, tuples are immutable\n",
    "except Exception as e:\n",
    "    print(e)"
   ]
  },
  {
   "cell_type": "code",
   "execution_count": 32,
   "id": "6f387d91",
   "metadata": {},
   "outputs": [
    {
     "ename": "TypeError",
     "evalue": "'tuple' object does not support item assignment",
     "output_type": "error",
     "traceback": [
      "\u001b[1;31m---------------------------------------------------------------------------\u001b[0m",
      "\u001b[1;31mTypeError\u001b[0m                                 Traceback (most recent call last)",
      "Input \u001b[1;32mIn [32]\u001b[0m, in \u001b[0;36m<cell line: 2>\u001b[1;34m()\u001b[0m\n\u001b[0;32m      1\u001b[0m T \u001b[38;5;241m=\u001b[39m (\u001b[38;5;241m1\u001b[39m, \u001b[38;5;241m2\u001b[39m, \u001b[38;5;241m3\u001b[39m)\n\u001b[1;32m----> 2\u001b[0m T[\u001b[38;5;241m0\u001b[39m] \u001b[38;5;241m=\u001b[39m \u001b[38;5;241m4\u001b[39m\n",
      "\u001b[1;31mTypeError\u001b[0m: 'tuple' object does not support item assignment"
     ]
    }
   ],
   "source": [
    "T = (1, 2, 3)\n",
    "T[0] = 4  # not allowed, tuples are immutable; 'tuple' object does not support item assignment\n"
   ]
  },
  {
   "cell_type": "code",
   "execution_count": 33,
   "id": "dfe572a0",
   "metadata": {},
   "outputs": [
    {
     "name": "stdout",
     "output_type": "stream",
     "text": [
      "set()\n"
     ]
    }
   ],
   "source": [
    "S = set()\n",
    "print (S)"
   ]
  },
  {
   "cell_type": "code",
   "execution_count": 35,
   "id": "24918d9c",
   "metadata": {},
   "outputs": [
    {
     "name": "stdout",
     "output_type": "stream",
     "text": [
      "{1}\n"
     ]
    }
   ],
   "source": [
    "S.add(1) # S= {1}\n",
    "print (S)"
   ]
  },
  {
   "cell_type": "code",
   "execution_count": 36,
   "id": "5a9fb882",
   "metadata": {},
   "outputs": [
    {
     "name": "stdout",
     "output_type": "stream",
     "text": [
      "{1}\n"
     ]
    }
   ],
   "source": [
    "S.add (1) #set doesn't accept repeated items\n",
    "print (S)"
   ]
  },
  {
   "cell_type": "code",
   "execution_count": 38,
   "id": "11c67de1",
   "metadata": {},
   "outputs": [
    {
     "name": "stdout",
     "output_type": "stream",
     "text": [
      "{1, 2}\n"
     ]
    }
   ],
   "source": [
    "S.add (2) # S = {1,2}\n",
    "print (S)"
   ]
  },
  {
   "cell_type": "code",
   "execution_count": 39,
   "id": "7f34f512",
   "metadata": {},
   "outputs": [
    {
     "name": "stdout",
     "output_type": "stream",
     "text": [
      "{'a': 1, 'b': 2}\n"
     ]
    }
   ],
   "source": [
    "D = {'a':1, 'b' :2}\n",
    "print (D)"
   ]
  },
  {
   "cell_type": "code",
   "execution_count": 40,
   "id": "ea1a57a7",
   "metadata": {},
   "outputs": [
    {
     "data": {
      "text/plain": [
       "dict_keys(['a', 'b'])"
      ]
     },
     "execution_count": 40,
     "metadata": {},
     "output_type": "execute_result"
    }
   ],
   "source": [
    "D.keys()"
   ]
  },
  {
   "cell_type": "code",
   "execution_count": 41,
   "id": "eed26a57",
   "metadata": {},
   "outputs": [
    {
     "data": {
      "text/plain": [
       "dict_values([1, 2])"
      ]
     },
     "execution_count": 41,
     "metadata": {},
     "output_type": "execute_result"
    }
   ],
   "source": [
    "D.values()"
   ]
  },
  {
   "cell_type": "code",
   "execution_count": 42,
   "id": "393a0d4b",
   "metadata": {},
   "outputs": [
    {
     "data": {
      "text/plain": [
       "dict_items([('a', 1), ('b', 2)])"
      ]
     },
     "execution_count": 42,
     "metadata": {},
     "output_type": "execute_result"
    }
   ],
   "source": [
    "D.items()"
   ]
  },
  {
   "cell_type": "code",
   "execution_count": 43,
   "id": "d296bb12",
   "metadata": {},
   "outputs": [
    {
     "data": {
      "text/plain": [
       "1"
      ]
     },
     "execution_count": 43,
     "metadata": {},
     "output_type": "execute_result"
    }
   ],
   "source": [
    "D ['a'] #access by key\n"
   ]
  },
  {
   "cell_type": "code",
   "execution_count": 44,
   "id": "1fede614",
   "metadata": {},
   "outputs": [],
   "source": [
    "del D ['a']"
   ]
  },
  {
   "cell_type": "code",
   "execution_count": 45,
   "id": "a506161a",
   "metadata": {},
   "outputs": [
    {
     "ename": "KeyError",
     "evalue": "'a'",
     "output_type": "error",
     "traceback": [
      "\u001b[1;31m---------------------------------------------------------------------------\u001b[0m",
      "\u001b[1;31mKeyError\u001b[0m                                  Traceback (most recent call last)",
      "Input \u001b[1;32mIn [45]\u001b[0m, in \u001b[0;36m<cell line: 1>\u001b[1;34m()\u001b[0m\n\u001b[1;32m----> 1\u001b[0m \u001b[43mD\u001b[49m\u001b[43m \u001b[49m\u001b[43m[\u001b[49m\u001b[38;5;124;43m'\u001b[39;49m\u001b[38;5;124;43ma\u001b[39;49m\u001b[38;5;124;43m'\u001b[39;49m\u001b[43m]\u001b[49m\n",
      "\u001b[1;31mKeyError\u001b[0m: 'a'"
     ]
    }
   ],
   "source": [
    "D ['a']"
   ]
  },
  {
   "cell_type": "code",
   "execution_count": 46,
   "id": "0f6c546d",
   "metadata": {},
   "outputs": [
    {
     "data": {
      "text/plain": [
       "dict_keys(['b'])"
      ]
     },
     "execution_count": 46,
     "metadata": {},
     "output_type": "execute_result"
    }
   ],
   "source": [
    "D. keys()"
   ]
  },
  {
   "cell_type": "code",
   "execution_count": 48,
   "id": "87f82108",
   "metadata": {},
   "outputs": [
    {
     "name": "stdout",
     "output_type": "stream",
     "text": [
      "Hello World\n"
     ]
    }
   ],
   "source": [
    "S = \"Hello World\"\n",
    "print (S)"
   ]
  },
  {
   "cell_type": "code",
   "execution_count": 49,
   "id": "ba22964a",
   "metadata": {},
   "outputs": [
    {
     "data": {
      "text/plain": [
       "'Hello Worl'"
      ]
     },
     "execution_count": 49,
     "metadata": {},
     "output_type": "execute_result"
    }
   ],
   "source": [
    "S [0:10]"
   ]
  },
  {
   "cell_type": "code",
   "execution_count": 56,
   "id": "b8f8ca26",
   "metadata": {},
   "outputs": [
    {
     "data": {
      "text/plain": [
       "'l'"
      ]
     },
     "execution_count": 56,
     "metadata": {},
     "output_type": "execute_result"
    }
   ],
   "source": [
    "S [-2]"
   ]
  },
  {
   "cell_type": "code",
   "execution_count": 58,
   "id": "96629cac",
   "metadata": {},
   "outputs": [
    {
     "name": "stdout",
     "output_type": "stream",
     "text": [
      "'str' object does not support item assignment\n"
     ]
    }
   ],
   "source": [
    "try:\n",
    "    S [2] = 'h'\n",
    "except Exception as e:\n",
    "    print (e)"
   ]
  },
  {
   "cell_type": "code",
   "execution_count": 60,
   "id": "7fce5dfd",
   "metadata": {},
   "outputs": [
    {
     "name": "stdout",
     "output_type": "stream",
     "text": [
      "Hello World\n"
     ]
    }
   ],
   "source": [
    "S = 'H' + S[1:] # reconstruct S with new first character and use indexing [1:]\n",
    "print (S)"
   ]
  },
  {
   "cell_type": "code",
   "execution_count": 62,
   "id": "b92f383f",
   "metadata": {},
   "outputs": [
    {
     "name": "stdout",
     "output_type": "stream",
     "text": [
      "Ullo World\n"
     ]
    }
   ],
   "source": [
    "S = 'U' + S[2:]\n",
    "print (S)"
   ]
  },
  {
   "cell_type": "code",
   "execution_count": 63,
   "id": "13262d53",
   "metadata": {},
   "outputs": [
    {
     "data": {
      "text/plain": [
       "'Ullo World'"
      ]
     },
     "execution_count": 63,
     "metadata": {},
     "output_type": "execute_result"
    }
   ],
   "source": [
    "S [0:10]"
   ]
  },
  {
   "cell_type": "code",
   "execution_count": 64,
   "id": "1d758a6d",
   "metadata": {},
   "outputs": [
    {
     "data": {
      "text/plain": [
       "'Ullo World'"
      ]
     },
     "execution_count": 64,
     "metadata": {},
     "output_type": "execute_result"
    }
   ],
   "source": [
    "S [0:]"
   ]
  },
  {
   "cell_type": "code",
   "execution_count": 65,
   "id": "f42e7974",
   "metadata": {},
   "outputs": [
    {
     "data": {
      "text/plain": [
       "'d'"
      ]
     },
     "execution_count": 65,
     "metadata": {},
     "output_type": "execute_result"
    }
   ],
   "source": [
    "S [-1:]"
   ]
  },
  {
   "cell_type": "code",
   "execution_count": 66,
   "id": "9e208593",
   "metadata": {},
   "outputs": [
    {
     "data": {
      "text/plain": [
       "''"
      ]
     },
     "execution_count": 66,
     "metadata": {},
     "output_type": "execute_result"
    }
   ],
   "source": [
    "S[-1:-4:2]"
   ]
  },
  {
   "cell_type": "code",
   "execution_count": 67,
   "id": "c8aaa54e",
   "metadata": {},
   "outputs": [
    {
     "data": {
      "text/plain": [
       "'l '"
      ]
     },
     "execution_count": 67,
     "metadata": {},
     "output_type": "execute_result"
    }
   ],
   "source": [
    "S[1:7:3]"
   ]
  },
  {
   "cell_type": "code",
   "execution_count": 68,
   "id": "009092b7",
   "metadata": {},
   "outputs": [
    {
     "data": {
      "text/plain": [
       "'Ullo W'"
      ]
     },
     "execution_count": 68,
     "metadata": {},
     "output_type": "execute_result"
    }
   ],
   "source": [
    "S[:6]"
   ]
  },
  {
   "cell_type": "code",
   "execution_count": 69,
   "id": "455f1e97",
   "metadata": {},
   "outputs": [
    {
     "data": {
      "text/plain": [
       "'U'"
      ]
     },
     "execution_count": 69,
     "metadata": {},
     "output_type": "execute_result"
    }
   ],
   "source": [
    "S [0]"
   ]
  },
  {
   "cell_type": "code",
   "execution_count": 71,
   "id": "9f94e670",
   "metadata": {},
   "outputs": [
    {
     "name": "stdout",
     "output_type": "stream",
     "text": [
      "[2, 4, 6]\n"
     ]
    }
   ],
   "source": [
    "L1 = [1,2,3]\n",
    "L2 = [element*2 for element in L1]\n",
    "print (L2)"
   ]
  },
  {
   "cell_type": "code",
   "execution_count": 72,
   "id": "3fb37ba1",
   "metadata": {},
   "outputs": [
    {
     "name": "stdout",
     "output_type": "stream",
     "text": [
      "Requirement already satisfied: numpy in c:\\users\\sheet\\anaconda3\\lib\\site-packages (1.21.5)\n"
     ]
    }
   ],
   "source": [
    "!pip install numpy"
   ]
  },
  {
   "cell_type": "code",
   "execution_count": 74,
   "id": "8c7e6a3c",
   "metadata": {},
   "outputs": [],
   "source": [
    "import numpy as np"
   ]
  },
  {
   "cell_type": "code",
   "execution_count": 79,
   "id": "b25fc22f",
   "metadata": {},
   "outputs": [
    {
     "name": "stdout",
     "output_type": "stream",
     "text": [
      "a=\n",
      ": [0. 0. 0. 0. 0. 0. 0. 0. 0. 0.]\n"
     ]
    }
   ],
   "source": [
    "a = np.zeros(10)\n",
    "print ('a=\\n:', a)"
   ]
  },
  {
   "cell_type": "code",
   "execution_count": 80,
   "id": "5715981a",
   "metadata": {},
   "outputs": [
    {
     "name": "stdout",
     "output_type": "stream",
     "text": [
      "b=\n",
      " [1. 1. 1. 1. 1. 1. 1. 1. 1. 1.]\n"
     ]
    }
   ],
   "source": [
    "b = np.ones(10)\n",
    "print ('b=\\n' , b)"
   ]
  },
  {
   "cell_type": "code",
   "execution_count": 81,
   "id": "02b326f3",
   "metadata": {},
   "outputs": [
    {
     "name": "stdout",
     "output_type": "stream",
     "text": [
      "a-b [-1. -1. -1. -1. -1. -1. -1. -1. -1. -1.]\n"
     ]
    }
   ],
   "source": [
    "print ('a-b' ,a-b)"
   ]
  },
  {
   "cell_type": "code",
   "execution_count": 86,
   "id": "6c2b9aa8",
   "metadata": {},
   "outputs": [
    {
     "name": "stdout",
     "output_type": "stream",
     "text": [
      "[[1. 1.]\n",
      " [1. 1.]\n",
      " [1. 1.]]\n"
     ]
    }
   ],
   "source": [
    "c= np.ones((3,2))\n",
    "print(c)"
   ]
  },
  {
   "cell_type": "code",
   "execution_count": 89,
   "id": "263a9594",
   "metadata": {},
   "outputs": [
    {
     "name": "stdout",
     "output_type": "stream",
     "text": [
      "[[1. 2.]\n",
      " [1. 1.]\n",
      " [1. 1.]]\n"
     ]
    }
   ],
   "source": [
    "c[0,0] = 1; c[0,1] = 2\n",
    "print (c)"
   ]
  },
  {
   "cell_type": "code",
   "execution_count": 90,
   "id": "715b3125",
   "metadata": {},
   "outputs": [
    {
     "name": "stdout",
     "output_type": "stream",
     "text": [
      "[[1 2]\n",
      " [4 5]]\n"
     ]
    }
   ],
   "source": [
    "d= np.array([[1,2],[4,5]])\n",
    "print (d)"
   ]
  },
  {
   "cell_type": "code",
   "execution_count": 94,
   "id": "5b05bf17",
   "metadata": {},
   "outputs": [
    {
     "name": "stdout",
     "output_type": "stream",
     "text": [
      "c!=d\n",
      " True\n"
     ]
    },
    {
     "name": "stderr",
     "output_type": "stream",
     "text": [
      "C:\\Users\\sheet\\AppData\\Local\\Temp\\ipykernel_8424\\369399964.py:1: DeprecationWarning: elementwise comparison failed; this will raise an error in the future.\n",
      "  print ('c!=d\\n', c!= d)\n"
     ]
    }
   ],
   "source": [
    "print ('c!=d\\n', c!= d)"
   ]
  },
  {
   "cell_type": "code",
   "execution_count": 95,
   "id": "bacccf73",
   "metadata": {},
   "outputs": [
    {
     "name": "stderr",
     "output_type": "stream",
     "text": [
      "C:\\Users\\sheet\\AppData\\Local\\Temp\\ipykernel_8424\\2827277485.py:1: DeprecationWarning: elementwise comparison failed; this will raise an error in the future.\n",
      "  print('(c==d).sum()\\n', (c==d).sum())\n"
     ]
    },
    {
     "ename": "AttributeError",
     "evalue": "'bool' object has no attribute 'sum'",
     "output_type": "error",
     "traceback": [
      "\u001b[1;31m---------------------------------------------------------------------------\u001b[0m",
      "\u001b[1;31mAttributeError\u001b[0m                            Traceback (most recent call last)",
      "Input \u001b[1;32mIn [95]\u001b[0m, in \u001b[0;36m<cell line: 1>\u001b[1;34m()\u001b[0m\n\u001b[1;32m----> 1\u001b[0m \u001b[38;5;28mprint\u001b[39m(\u001b[38;5;124m'\u001b[39m\u001b[38;5;124m(c==d).sum()\u001b[39m\u001b[38;5;130;01m\\n\u001b[39;00m\u001b[38;5;124m'\u001b[39m, \u001b[43m(\u001b[49m\u001b[43mc\u001b[49m\u001b[38;5;241;43m==\u001b[39;49m\u001b[43md\u001b[49m\u001b[43m)\u001b[49m\u001b[38;5;241;43m.\u001b[39;49m\u001b[43msum\u001b[49m())\n",
      "\u001b[1;31mAttributeError\u001b[0m: 'bool' object has no attribute 'sum'"
     ]
    }
   ],
   "source": [
    "print('(c==d).sum()\\n', (c==d).sum())"
   ]
  },
  {
   "cell_type": "code",
   "execution_count": 96,
   "id": "24ebc1c4",
   "metadata": {},
   "outputs": [
    {
     "name": "stdout",
     "output_type": "stream",
     "text": [
      "[[1. 2.]\n",
      " [1. 1.]\n",
      " [1. 1.]] [[1 2]\n",
      " [4 5]]\n"
     ]
    }
   ],
   "source": [
    "print (c,d)"
   ]
  },
  {
   "cell_type": "code",
   "execution_count": 97,
   "id": "295c3dd2",
   "metadata": {},
   "outputs": [
    {
     "name": "stdout",
     "output_type": "stream",
     "text": [
      "[[1 2]\n",
      " [3 4]]\n"
     ]
    }
   ],
   "source": [
    "c = np.array([[1,2],[3,4]])\n",
    "print (c)"
   ]
  },
  {
   "cell_type": "code",
   "execution_count": 98,
   "id": "5aa0d5c1",
   "metadata": {},
   "outputs": [
    {
     "name": "stdout",
     "output_type": "stream",
     "text": [
      "[[1 2]\n",
      " [4 5]]\n"
     ]
    }
   ],
   "source": [
    "c = np.array([[1,2],[4,5]])\n",
    "print (c)"
   ]
  },
  {
   "cell_type": "code",
   "execution_count": 99,
   "id": "ef217043",
   "metadata": {},
   "outputs": [
    {
     "name": "stdout",
     "output_type": "stream",
     "text": [
      "c==d\n",
      " [[ True  True]\n",
      " [ True  True]]\n"
     ]
    }
   ],
   "source": [
    "print ('c==d\\n', c==d)"
   ]
  },
  {
   "cell_type": "code",
   "execution_count": 101,
   "id": "ee730eeb",
   "metadata": {},
   "outputs": [
    {
     "name": "stdout",
     "output_type": "stream",
     "text": [
      "c==d.sum()\n",
      " 4\n"
     ]
    }
   ],
   "source": [
    "print('c==d.sum()\\n', (c==d).sum())"
   ]
  },
  {
   "cell_type": "code",
   "execution_count": null,
   "id": "ad1cfb92",
   "metadata": {},
   "outputs": [],
   "source": []
  }
 ],
 "metadata": {
  "kernelspec": {
   "display_name": "Python 3 (ipykernel)",
   "language": "python",
   "name": "python3"
  },
  "language_info": {
   "codemirror_mode": {
    "name": "ipython",
    "version": 3
   },
   "file_extension": ".py",
   "mimetype": "text/x-python",
   "name": "python",
   "nbconvert_exporter": "python",
   "pygments_lexer": "ipython3",
   "version": "3.9.12"
  }
 },
 "nbformat": 4,
 "nbformat_minor": 5
}
