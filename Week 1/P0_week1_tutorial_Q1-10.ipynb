{
 "cells": [
  {
   "cell_type": "markdown",
   "metadata": {},
   "source": [
    "# Getting started with Python\n",
    "In this lab, we will review the basics of Python language and some of the most well-known data science libraries.\n",
    "\n",
    "### Prerequisites:\n",
    "\n",
    "- Installation of [Anaconda](https://www.anaconda.com/products/individual)  (Python 3) and Python environments.\n",
    "\n",
    "Table of content:\n",
    "\n",
    "- <a href='#PythonIntroduction'>Python Introduction</a>\n",
    "    - <a href='#BasicTypes'>Basic Types</a>\n",
    "- <a href='#Libraries'>Libraries</a>\n",
    "    - <a href='#numpy'>numpy</a>\n",
    "    - <a href='#matplotlib'>matplotlib</a>\n",
    "    - <a href='#pandas'>pandas</a>\n",
    "    - <a href=\"#scikit-learn\">scikit-learn</a>\n",
    "\n",
    "\n"
   ]
  },
  {
   "cell_type": "markdown",
   "metadata": {},
   "source": [
    "<a id='PythonIntroduction'></a>\n",
    "## Python Introduction\n",
    "\n",
    "Below are the links to the resources that can help you to learn Python language\n",
    "\n",
    "- <a href='https://www.python.org/doc/'>Python website</a>\n",
    "- <a href='https://docs.python.org/3/tutorial/'>Official tutorial</a>\n",
    "- <a href='https://www.learnpython.org/'>LearnPython.org interactive Python tutorial </a>\n",
    "- <a href='https://www.datacamp.com/courses/intro-to-python-for-data-science'>DataCamp Introduction to Python </a>\n",
    "- <a href='https://cognitiveclass.ai/courses/python-for-data-science'>Python for Data Science</a>\n"
   ]
  },
  {
   "cell_type": "markdown",
   "metadata": {},
   "source": [
    "<a id='BasicTypes'></a>\n",
    "### Basic Types"
   ]
  },
  {
   "cell_type": "markdown",
   "metadata": {},
   "source": [
    "#### Integer"
   ]
  },
  {
   "cell_type": "code",
   "execution_count": null,
   "metadata": {},
   "outputs": [],
   "source": [
    "1 # integer"
   ]
  },
  {
   "cell_type": "code",
   "execution_count": null,
   "metadata": {},
   "outputs": [],
   "source": [
    "int(1) # same "
   ]
  },
  {
   "cell_type": "markdown",
   "metadata": {},
   "source": [
    "#### Float"
   ]
  },
  {
   "cell_type": "code",
   "execution_count": null,
   "metadata": {},
   "outputs": [],
   "source": [
    "1.0 # float"
   ]
  },
  {
   "cell_type": "code",
   "execution_count": null,
   "metadata": {},
   "outputs": [],
   "source": [
    "float(1) # same"
   ]
  },
  {
   "cell_type": "markdown",
   "metadata": {},
   "source": [
    "Converting string to int"
   ]
  },
  {
   "cell_type": "code",
   "execution_count": null,
   "metadata": {},
   "outputs": [],
   "source": [
    "int(\"1\") # string to int"
   ]
  },
  {
   "cell_type": "markdown",
   "metadata": {},
   "source": [
    "#### Variable"
   ]
  },
  {
   "cell_type": "code",
   "execution_count": null,
   "metadata": {},
   "outputs": [],
   "source": [
    "a = 1 + 2  #make a variable\n",
    "print(a)"
   ]
  },
  {
   "cell_type": "markdown",
   "metadata": {},
   "source": [
    "#### Range"
   ]
  },
  {
   "cell_type": "code",
   "execution_count": null,
   "metadata": {},
   "outputs": [],
   "source": [
    "range(0,10) # 0,1,2,3,4,5,6,7,8,9"
   ]
  },
  {
   "cell_type": "code",
   "execution_count": null,
   "metadata": {},
   "outputs": [],
   "source": [
    "range(10) # same"
   ]
  },
  {
   "cell_type": "code",
   "execution_count": null,
   "metadata": {},
   "outputs": [],
   "source": [
    "b = range(0,10)\n",
    "for i in b:\n",
    "    print(i)"
   ]
  },
  {
   "cell_type": "markdown",
   "metadata": {},
   "source": [
    "#### List"
   ]
  },
  {
   "cell_type": "code",
   "execution_count": null,
   "metadata": {},
   "outputs": [],
   "source": [
    "L = [1, 2, 3] # list\n",
    "print(L)"
   ]
  },
  {
   "cell_type": "code",
   "execution_count": null,
   "metadata": {},
   "outputs": [],
   "source": [
    "# indexing\n",
    "L[0], L[1], L[2] # first, second, third"
   ]
  },
  {
   "cell_type": "code",
   "execution_count": null,
   "metadata": {},
   "outputs": [],
   "source": [
    "L[-1], L[-2], L[-3] # last, one before last, two before last"
   ]
  },
  {
   "cell_type": "code",
   "execution_count": null,
   "metadata": {},
   "outputs": [],
   "source": [
    "L[0] = 4 # lists are mutable\n",
    "print(L)"
   ]
  },
  {
   "cell_type": "code",
   "execution_count": null,
   "metadata": {},
   "outputs": [],
   "source": [
    "# Q.1 Change the last element in the list L to 100 and print the element. Type your answer below:\n",
    "\n",
    "\n",
    "\n"
   ]
  },
  {
   "cell_type": "markdown",
   "metadata": {},
   "source": [
    "#### Tuple"
   ]
  },
  {
   "cell_type": "code",
   "execution_count": null,
   "metadata": {},
   "outputs": [],
   "source": [
    "T = (1, 2, 3) # tuple\n",
    "print(T)"
   ]
  },
  {
   "cell_type": "code",
   "execution_count": null,
   "metadata": {},
   "outputs": [],
   "source": [
    "T[1]"
   ]
  },
  {
   "cell_type": "code",
   "execution_count": null,
   "metadata": {},
   "outputs": [],
   "source": [
    "try:\n",
    "    T[0] =4  # not allowed, tuples are immutable\n",
    "except Exception as e:\n",
    "    print(e)\n",
    "    \n",
    "# Q.2 What happens if you remove try excpet part and just type T[0]=4 ?"
   ]
  },
  {
   "cell_type": "markdown",
   "metadata": {},
   "source": [
    "#### Set"
   ]
  },
  {
   "cell_type": "code",
   "execution_count": null,
   "metadata": {},
   "outputs": [],
   "source": [
    "S = set()\n",
    "print(S)"
   ]
  },
  {
   "cell_type": "code",
   "execution_count": null,
   "metadata": {},
   "outputs": [],
   "source": [
    "S.add(1) # S = {1}\n",
    "print(S)"
   ]
  },
  {
   "cell_type": "code",
   "execution_count": null,
   "metadata": {},
   "outputs": [],
   "source": [
    "S.add(2) # S = {1}\n",
    "print(S)"
   ]
  },
  {
   "cell_type": "code",
   "execution_count": null,
   "metadata": {},
   "outputs": [],
   "source": [
    "S.add(1) # S = {1}\n",
    "print(S)"
   ]
  },
  {
   "cell_type": "code",
   "execution_count": null,
   "metadata": {},
   "outputs": [],
   "source": [
    "# Q.3 Add the element 10 to the set S and print the set:\n",
    "\n"
   ]
  },
  {
   "cell_type": "markdown",
   "metadata": {},
   "source": [
    "#### Dictionary"
   ]
  },
  {
   "cell_type": "code",
   "execution_count": null,
   "metadata": {},
   "outputs": [],
   "source": [
    "D = {'a': 1, 'b': 2}\n",
    "print(D)"
   ]
  },
  {
   "cell_type": "code",
   "execution_count": null,
   "metadata": {},
   "outputs": [],
   "source": [
    "D.keys(), D.values(), D.items()   # Q.4 Explain the fuctions keys, values & items "
   ]
  },
  {
   "cell_type": "code",
   "execution_count": null,
   "metadata": {},
   "outputs": [],
   "source": [
    "D['a'] # access by key"
   ]
  },
  {
   "cell_type": "code",
   "execution_count": null,
   "metadata": {},
   "outputs": [],
   "source": [
    "del D['a'] # remove key, value pair\n",
    "print(D)"
   ]
  },
  {
   "cell_type": "markdown",
   "metadata": {},
   "source": [
    "#### String"
   ]
  },
  {
   "cell_type": "code",
   "execution_count": null,
   "metadata": {},
   "outputs": [],
   "source": [
    "S = \"hello world\"\n",
    "S[0], S[1], S[2] # first, second, third\" #string"
   ]
  },
  {
   "cell_type": "code",
   "execution_count": null,
   "metadata": {},
   "outputs": [],
   "source": [
    "S[0], S[1], S[2] # first, second, third"
   ]
  },
  {
   "cell_type": "code",
   "execution_count": null,
   "metadata": {},
   "outputs": [],
   "source": [
    "S[-1], S[-2], S[-3] # last, one before last, two before last"
   ]
  },
  {
   "cell_type": "code",
   "execution_count": null,
   "metadata": {},
   "outputs": [],
   "source": [
    "try:\n",
    "    S[0] = 'H' # not allowed, strings are immutable\n",
    "except Exception as e:\n",
    "    print(e)"
   ]
  },
  {
   "cell_type": "code",
   "execution_count": null,
   "metadata": {},
   "outputs": [],
   "source": [
    "# HOWEVER\n",
    "S = 'H' + S[1:] # reconstruct S with new first character and use indexing [1:]\n",
    "print(S)"
   ]
  },
  {
   "cell_type": "markdown",
   "metadata": {},
   "source": [
    "#### Slicing"
   ]
  },
  {
   "cell_type": "code",
   "execution_count": null,
   "metadata": {},
   "outputs": [],
   "source": [
    "S[0:10] # from index-0 (included) to index-9 (index-10 excluded)"
   ]
  },
  {
   "cell_type": "code",
   "execution_count": null,
   "metadata": {},
   "outputs": [],
   "source": [
    "S[:10] # same, ommiting first index starts from 0 (begining)"
   ]
  },
  {
   "cell_type": "code",
   "execution_count": null,
   "metadata": {},
   "outputs": [],
   "source": [
    "S[1:] # ommiting last index ends at the end of the array"
   ]
  },
  {
   "cell_type": "code",
   "execution_count": null,
   "metadata": {},
   "outputs": [],
   "source": [
    "S[0:10:2] # 0 to 9 with step size 2 i.e. even indices 0,2,4,6,8"
   ]
  },
  {
   "cell_type": "code",
   "execution_count": null,
   "metadata": {},
   "outputs": [],
   "source": [
    "# Q.5 Print the fisrt word from the string S. Type your code below \n",
    "\n"
   ]
  },
  {
   "cell_type": "markdown",
   "metadata": {},
   "source": [
    "#### List Comprehension"
   ]
  },
  {
   "cell_type": "code",
   "execution_count": null,
   "metadata": {},
   "outputs": [],
   "source": [
    "L1 = [1,2,3]\n",
    "\n",
    "print(L1)"
   ]
  },
  {
   "cell_type": "code",
   "execution_count": null,
   "metadata": {},
   "outputs": [],
   "source": [
    "# L2 contains double the value for each element in L1\n",
    "\n",
    "L2 = [element*2 for element in L1]\n",
    "print(L2)"
   ]
  },
  {
   "cell_type": "markdown",
   "metadata": {},
   "source": [
    "<a id=\"Libraries\"></a>\n",
    "## Libraries\n",
    "\n",
    "<a id=\"numpy\"></a>\n",
    "### numpy\n",
    "Mostly can be used for  **arrays, vectors and numerical computations.**\n",
    "\n",
    "\n",
    "<a href=\"https://numpy.org/\">Official Website</a>\n",
    "\n",
    "\n",
    "**PIP**\n",
    "\n",
    "If you use pip, you can install it with:\n",
    "\n",
    "`pip install numpy`"
   ]
  },
  {
   "cell_type": "code",
   "execution_count": null,
   "metadata": {},
   "outputs": [],
   "source": [
    "!pip install numpy"
   ]
  },
  {
   "cell_type": "code",
   "execution_count": null,
   "metadata": {},
   "outputs": [],
   "source": [
    "import numpy as np"
   ]
  },
  {
   "cell_type": "code",
   "execution_count": null,
   "metadata": {},
   "outputs": [],
   "source": [
    "a = np.zeros(10)\n",
    "print('a=\\n', a)"
   ]
  },
  {
   "cell_type": "code",
   "execution_count": null,
   "metadata": {},
   "outputs": [],
   "source": [
    "b = np.ones(10)\n",
    "print('b=\\n', b)"
   ]
  },
  {
   "cell_type": "code",
   "execution_count": null,
   "metadata": {},
   "outputs": [],
   "source": [
    "print('a-b=', a-b)"
   ]
  },
  {
   "cell_type": "code",
   "execution_count": null,
   "metadata": {},
   "outputs": [],
   "source": [
    "c = np.zeros((2,2))\n",
    "print(c)"
   ]
  },
  {
   "cell_type": "code",
   "execution_count": null,
   "metadata": {},
   "outputs": [],
   "source": [
    "c[0,0] = 1; c[0,1] = 2; c[1,0] = 3; c[1,1] = 4\n",
    "print('c=', c)"
   ]
  },
  {
   "cell_type": "code",
   "execution_count": null,
   "metadata": {},
   "outputs": [],
   "source": [
    "d = np.array([[1,2], [3,4]]) # construct from python nested list\n",
    "print('d\\n', d)"
   ]
  },
  {
   "cell_type": "code",
   "execution_count": null,
   "metadata": {},
   "outputs": [],
   "source": [
    "print('c == d\\n', c == d)"
   ]
  },
  {
   "cell_type": "code",
   "execution_count": null,
   "metadata": {},
   "outputs": [],
   "source": [
    "print('(c==d).sum()\\n', (c==d).sum())"
   ]
  },
  {
   "cell_type": "code",
   "execution_count": null,
   "metadata": {},
   "outputs": [],
   "source": [
    "arr = np.zeros((3,5)) # 3 rows , 2 columns "
   ]
  },
  {
   "cell_type": "code",
   "execution_count": null,
   "metadata": {},
   "outputs": [],
   "source": [
    "print(arr)"
   ]
  },
  {
   "cell_type": "code",
   "execution_count": null,
   "metadata": {},
   "outputs": [],
   "source": [
    "arr[0:2]=100   # fill in all elements from row 0 to row 1 with '100'\n",
    "print(arr)"
   ]
  },
  {
   "cell_type": "code",
   "execution_count": null,
   "metadata": {},
   "outputs": [],
   "source": [
    "arr[:,4:]= 5   # fill in colums starting at index 4 with '5'\n",
    "print(arr)"
   ]
  },
  {
   "cell_type": "code",
   "execution_count": null,
   "metadata": {},
   "outputs": [],
   "source": [
    "print(arr[:2,1:])      # print first 2 rows and colums from 1 to end "
   ]
  },
  {
   "cell_type": "code",
   "execution_count": null,
   "metadata": {},
   "outputs": [],
   "source": [
    "# Q.6 print the first row in the array 'arr'    \n",
    "\n"
   ]
  },
  {
   "cell_type": "code",
   "execution_count": null,
   "metadata": {},
   "outputs": [],
   "source": [
    "# Q.7 print the last column in the array 'arr'\n",
    "\n"
   ]
  },
  {
   "cell_type": "code",
   "execution_count": null,
   "metadata": {},
   "outputs": [],
   "source": [
    "arr = np.random.random((2,3)) # random assignement to elements of array \n",
    "print(arr)"
   ]
  },
  {
   "cell_type": "code",
   "execution_count": null,
   "metadata": {},
   "outputs": [],
   "source": [
    "arr[:,1]     # Q.8 What does this function print?"
   ]
  },
  {
   "cell_type": "markdown",
   "metadata": {},
   "source": [
    "<a id=\"matplotlib\"></a>\n",
    "## matplotlib\n",
    "Matplotlib is a comprehensive library for creating static, animated, and interactive visualizations\n",
    "\n",
    "<a href=\"https://matplotlib.org/\">Official Website</a>\n",
    "\n",
    "<a href=\"https://matplotlib.org/users/installing.html\">Installation Guide</a>\n",
    "\n",
    "**PIP**\n",
    "\n",
    "If you use pip, you can install it with:\n",
    "\n",
    "`pip install matplotlib`"
   ]
  },
  {
   "cell_type": "code",
   "execution_count": null,
   "metadata": {},
   "outputs": [],
   "source": [
    "#%matplotlib inline #This command is to plot graphs within the notebook\n",
    "import matplotlib.pylab as plt"
   ]
  },
  {
   "cell_type": "code",
   "execution_count": null,
   "metadata": {},
   "outputs": [],
   "source": [
    "plt.plot(range(10), range(10))\n",
    "plt.plot(range(10), range(1,11), c='green', linestyle=':')\n",
    "plt.show()"
   ]
  },
  {
   "cell_type": "code",
   "execution_count": null,
   "metadata": {},
   "outputs": [],
   "source": [
    "# Q.9 look up the the functions plot(), bar(), scatter() & hist() \n",
    "fig, ax = plt.subplots(1,2, figsize=(12,4))\n",
    "ax[0].scatter(range(10), range(10))\n",
    "ax[0].scatter(range(10), range(1,11), c='red', marker='x')\n",
    "\n",
    "ax[1].bar(range(10), range(10), 0.5, alpha=0.5) # alpha for transparency\n",
    "ax[1].bar(np.arange(10)-0.3, np.arange(0,5,0.5), 0.5, alpha=0.5)\n",
    "plt.show()"
   ]
  },
  {
   "cell_type": "markdown",
   "metadata": {},
   "source": [
    "<a id=\"pandas\"></a>\n",
    "## pandas\n",
    "pandas is a fast, powerful, flexible and easy to use open source data analysis and manipulation tool\n",
    "\n",
    "<a href=\"https://pandas.pydata.org/\">Official Website</a>\n",
    "\n",
    "<a href=\"https://pandas.pydata.org/getting_started.html\">Installation Guide</a>\n",
    "\n",
    "**PIP**\n",
    "\n",
    "If you use pip, you can install it with:\n",
    "\n",
    "`pip install pandas`"
   ]
  },
  {
   "cell_type": "code",
   "execution_count": null,
   "metadata": {},
   "outputs": [],
   "source": [
    "import pandas as pd\n",
    "\n",
    "# from dictionary\n",
    "d = {1: [1,2,3], 2: [4,5,6]}\n",
    "\n",
    "# keys: data index\n",
    "# values: row values\n",
    "df1 = pd.DataFrame.from_dict(d, orient='index')  # df1 is your pandas frame which contains your data \n",
    "print('index oriented')\n",
    "display(df1.head())\n"
   ]
  },
  {
   "cell_type": "code",
   "execution_count": null,
   "metadata": {},
   "outputs": [],
   "source": [
    "# keys: columns\n",
    "# values: column values\n",
    "df2 = pd.DataFrame.from_dict(d, orient='columns') \n",
    "print('columns oriented')\n",
    "display(df2.head())"
   ]
  },
  {
   "cell_type": "code",
   "execution_count": null,
   "metadata": {},
   "outputs": [],
   "source": [
    "# from comma-seperated-value (cvs)\n",
    "import io # to create a virtual file (String buffer)\n",
    "\n",
    "csv = \"\"\"width,height\n",
    "10,20\n",
    "3,5\n",
    "30,40\n",
    "11,12\n",
    "1.5,2.5\"\"\"\n",
    "\n",
    "df3 = pd.read_csv(io.StringIO(csv)) # df3 data frame records width and height for  4 instances\n",
    "print('df3')\n",
    "display(df3.head())"
   ]
  },
  {
   "cell_type": "code",
   "execution_count": null,
   "metadata": {},
   "outputs": [],
   "source": [
    "# creating new column\n",
    "# method 1\n",
    "df3['area 1'] = df3['width'] * df3['height']\n",
    "\n",
    "def func(row):\n",
    "    return row.width * row.height\n",
    "# method 2\n",
    "df3['area 2'] = df3.apply(func, axis=1)\n",
    "\n",
    "print('df3 modified')\n",
    "display(df3.head())\n",
    "# Q.10 Create a new colums with a categorical value S, M, L & XL \n"
   ]
  },
  {
   "cell_type": "code",
   "execution_count": null,
   "metadata": {},
   "outputs": [],
   "source": [
    "display(df3.describe()) # display full statistical summary of the records including mean, std, min, max,...etc"
   ]
  },
  {
   "cell_type": "code",
   "execution_count": null,
   "metadata": {},
   "outputs": [],
   "source": [
    "df3.plot(kind='bar')"
   ]
  },
  {
   "cell_type": "markdown",
   "metadata": {},
   "source": [
    "<a id=\"scikit-learn\"></a>\n",
    "## scikit-learn\n",
    "Machine Learning in Python. Simple and efficient tools for predictive data analysis\n",
    "\n",
    "<a href=\"https://scikit-learn.org/stable/\">Official Website</a>\n",
    "\n",
    "<a href=\"https://scikit-learn.org/stable/install.html\">Installation Guide</a>\n",
    "\n",
    "**PIP**\n",
    "\n",
    "If you use pip, you can install it with:\n",
    "\n",
    "`pip install sklearn`"
   ]
  },
  {
   "cell_type": "code",
   "execution_count": null,
   "metadata": {},
   "outputs": [],
   "source": [
    "# some models for classification and regression\n",
    "from sklearn.linear_model import LogisticRegression, LinearRegression\n",
    "from sklearn.neighbors import KNeighborsClassifier, KNeighborsRegressor\n",
    "from sklearn.tree import DecisionTreeClassifier, DecisionTreeRegressor\n",
    "\n",
    "# model selection tools\n",
    "from sklearn.model_selection import KFold, train_test_split, GridSearchCV\n",
    "\n",
    "# metrics\n",
    "from sklearn.metrics import accuracy_score, roc_auc_score, f1_score, precision_score, recall_score, confusion_matrix"
   ]
  },
  {
   "cell_type": "code",
   "execution_count": null,
   "metadata": {},
   "outputs": [],
   "source": []
  }
 ],
 "metadata": {
  "celltoolbar": "Raw Cell Format",
  "kernelspec": {
   "display_name": "Python 3",
   "language": "python",
   "name": "python3"
  },
  "language_info": {
   "codemirror_mode": {
    "name": "ipython",
    "version": 3
   },
   "file_extension": ".py",
   "mimetype": "text/x-python",
   "name": "python",
   "nbconvert_exporter": "python",
   "pygments_lexer": "ipython3",
   "version": "3.6.8"
  }
 },
 "nbformat": 4,
 "nbformat_minor": 4
}
