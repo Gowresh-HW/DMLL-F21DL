{
 "cells": [
  {
   "cell_type": "markdown",
   "metadata": {
    "id": "1Yp2x5NphRrR"
   },
   "source": [
    "# DMLL Portfolio (FIRE) Data Exploration and Visualization (Getting to know our data) - Group 3"
   ]
  },
  {
   "cell_type": "markdown",
   "metadata": {},
   "source": [
    "## LAB2"
   ]
  },
  {
   "cell_type": "markdown",
   "metadata": {
    "id": "3G2agedJhRrS"
   },
   "source": [
    "## Setup"
   ]
  },
  {
   "cell_type": "code",
   "execution_count": 12,
   "metadata": {
    "id": "UJMHBNTNhRrS"
   },
   "outputs": [],
   "source": [
    "import sys\n",
    "assert sys.version_info >= (3, 5)\n",
    "# Python ≥3.5 is required\n"
   ]
  },
  {
   "cell_type": "code",
   "execution_count": 13,
   "metadata": {
    "id": "rEM0Cu7xhRrU"
   },
   "outputs": [],
   "source": [
    "# Scikit-Learn ≥0.20 is required\n",
    "import sklearn\n",
    "assert sklearn.__version__ >= \"0.20\""
   ]
  },
  {
   "cell_type": "code",
   "execution_count": 14,
   "metadata": {
    "id": "kBhrMzIvhRrV"
   },
   "outputs": [],
   "source": [
    "# Common imports\n",
    "import numpy as np\n",
    "import os\n",
    "import tarfile\n",
    "import urllib\n",
    "import pandas as pd\n",
    "import urllib.request\n"
   ]
  },
  {
   "cell_type": "code",
   "execution_count": 15,
   "metadata": {
    "id": "F0MqHkqGhRrW"
   },
   "outputs": [],
   "source": [
    "# To plot pretty figures\n",
    "%matplotlib inline\n",
    "import matplotlib as mpl\n",
    "import matplotlib.pyplot as plt"
   ]
  },
  {
   "cell_type": "markdown",
   "metadata": {
    "id": "e1PFyyJfhRrX"
   },
   "source": [
    "# Get the data"
   ]
  },
  {
   "cell_type": "markdown",
   "metadata": {
    "id": "lVD91J2YhRrX"
   },
   "source": [
    "With this code, we download the dataset stored in our github package \"DMLL-F21DL\""
   ]
  },
  {
   "cell_type": "code",
   "execution_count": 16,
   "metadata": {
    "id": "6QXOXllRhRrY"
   },
   "outputs": [],
   "source": [
    "dataset = pd.read_csv(\"datasets/forestfire/fire_archive.csv\")\n",
    "fire_data = dataset"
   ]
  },
  {
   "cell_type": "code",
   "execution_count": 17,
   "metadata": {
    "id": "p-eiPmPjhRrZ"
   },
   "outputs": [],
   "source": [
    "#fetch_fire_data()\n",
    "# calling the function fetch_fire_data, (defined above) creates a datasets/fire directory in our workspace, \n",
    "# downloads fire_archive.csv file to this directory "
   ]
  },
  {
   "cell_type": "markdown",
   "metadata": {
    "id": "Ca8AlsCahRrZ"
   },
   "source": [
    "`load_fire_data` function loads the `fire_archive.csv` into a panda `dataframe`"
   ]
  },
  {
   "cell_type": "code",
   "execution_count": 18,
   "metadata": {
    "id": "5b3O1VHkhRra"
   },
   "outputs": [],
   "source": [
    "def load_fire_data(fire_path=FIRE_PATH):\n",
    "    csv_path = os.path.join(fire_path, \"fire_archive.csv\")\n",
    "    return pd.read_csv(csv_path)"
   ]
  },
  {
   "cell_type": "code",
   "execution_count": 139,
   "metadata": {
    "colab": {
     "base_uri": "https://localhost:8080/",
     "height": 224
    },
    "id": "s00DKz0mhRrb",
    "outputId": "dbe5e655-81fa-45da-83d8-97ead371e1e2"
   },
   "outputs": [
    {
     "data": {
      "text/html": [
       "<div>\n",
       "<style scoped>\n",
       "    .dataframe tbody tr th:only-of-type {\n",
       "        vertical-align: middle;\n",
       "    }\n",
       "\n",
       "    .dataframe tbody tr th {\n",
       "        vertical-align: top;\n",
       "    }\n",
       "\n",
       "    .dataframe thead th {\n",
       "        text-align: right;\n",
       "    }\n",
       "</style>\n",
       "<table border=\"1\" class=\"dataframe\">\n",
       "  <thead>\n",
       "    <tr style=\"text-align: right;\">\n",
       "      <th></th>\n",
       "      <th>latitude</th>\n",
       "      <th>longitude</th>\n",
       "      <th>brightness</th>\n",
       "      <th>scan</th>\n",
       "      <th>track</th>\n",
       "      <th>acq_date</th>\n",
       "      <th>acq_time</th>\n",
       "      <th>satellite</th>\n",
       "      <th>instrument</th>\n",
       "      <th>confidence</th>\n",
       "      <th>version</th>\n",
       "      <th>bright_t31</th>\n",
       "      <th>frp</th>\n",
       "      <th>daynight</th>\n",
       "      <th>type</th>\n",
       "    </tr>\n",
       "  </thead>\n",
       "  <tbody>\n",
       "    <tr>\n",
       "      <th>0</th>\n",
       "      <td>-11.8070</td>\n",
       "      <td>142.0583</td>\n",
       "      <td>313.0</td>\n",
       "      <td>1.0</td>\n",
       "      <td>1.0</td>\n",
       "      <td>2019-08-01</td>\n",
       "      <td>56</td>\n",
       "      <td>Terra</td>\n",
       "      <td>MODIS</td>\n",
       "      <td>48</td>\n",
       "      <td>6.3</td>\n",
       "      <td>297.3</td>\n",
       "      <td>6.6</td>\n",
       "      <td>D</td>\n",
       "      <td>0</td>\n",
       "    </tr>\n",
       "    <tr>\n",
       "      <th>1</th>\n",
       "      <td>-11.7924</td>\n",
       "      <td>142.0850</td>\n",
       "      <td>319.3</td>\n",
       "      <td>1.0</td>\n",
       "      <td>1.0</td>\n",
       "      <td>2019-08-01</td>\n",
       "      <td>56</td>\n",
       "      <td>Terra</td>\n",
       "      <td>MODIS</td>\n",
       "      <td>71</td>\n",
       "      <td>6.3</td>\n",
       "      <td>297.3</td>\n",
       "      <td>11.3</td>\n",
       "      <td>D</td>\n",
       "      <td>0</td>\n",
       "    </tr>\n",
       "    <tr>\n",
       "      <th>2</th>\n",
       "      <td>-12.8398</td>\n",
       "      <td>132.8744</td>\n",
       "      <td>311.6</td>\n",
       "      <td>3.1</td>\n",
       "      <td>1.7</td>\n",
       "      <td>2019-08-01</td>\n",
       "      <td>57</td>\n",
       "      <td>Terra</td>\n",
       "      <td>MODIS</td>\n",
       "      <td>42</td>\n",
       "      <td>6.3</td>\n",
       "      <td>298.7</td>\n",
       "      <td>23.1</td>\n",
       "      <td>D</td>\n",
       "      <td>0</td>\n",
       "    </tr>\n",
       "    <tr>\n",
       "      <th>3</th>\n",
       "      <td>-14.4306</td>\n",
       "      <td>143.3035</td>\n",
       "      <td>310.1</td>\n",
       "      <td>1.1</td>\n",
       "      <td>1.1</td>\n",
       "      <td>2019-08-01</td>\n",
       "      <td>57</td>\n",
       "      <td>Terra</td>\n",
       "      <td>MODIS</td>\n",
       "      <td>33</td>\n",
       "      <td>6.3</td>\n",
       "      <td>296.1</td>\n",
       "      <td>6.5</td>\n",
       "      <td>D</td>\n",
       "      <td>0</td>\n",
       "    </tr>\n",
       "    <tr>\n",
       "      <th>4</th>\n",
       "      <td>-12.4953</td>\n",
       "      <td>131.4897</td>\n",
       "      <td>310.3</td>\n",
       "      <td>4.0</td>\n",
       "      <td>1.9</td>\n",
       "      <td>2019-08-01</td>\n",
       "      <td>57</td>\n",
       "      <td>Terra</td>\n",
       "      <td>MODIS</td>\n",
       "      <td>36</td>\n",
       "      <td>6.3</td>\n",
       "      <td>298.8</td>\n",
       "      <td>27.6</td>\n",
       "      <td>D</td>\n",
       "      <td>0</td>\n",
       "    </tr>\n",
       "    <tr>\n",
       "      <th>...</th>\n",
       "      <td>...</td>\n",
       "      <td>...</td>\n",
       "      <td>...</td>\n",
       "      <td>...</td>\n",
       "      <td>...</td>\n",
       "      <td>...</td>\n",
       "      <td>...</td>\n",
       "      <td>...</td>\n",
       "      <td>...</td>\n",
       "      <td>...</td>\n",
       "      <td>...</td>\n",
       "      <td>...</td>\n",
       "      <td>...</td>\n",
       "      <td>...</td>\n",
       "      <td>...</td>\n",
       "    </tr>\n",
       "    <tr>\n",
       "      <th>36006</th>\n",
       "      <td>-28.0656</td>\n",
       "      <td>131.6334</td>\n",
       "      <td>312.7</td>\n",
       "      <td>1.2</td>\n",
       "      <td>1.1</td>\n",
       "      <td>2019-09-30</td>\n",
       "      <td>1644</td>\n",
       "      <td>Aqua</td>\n",
       "      <td>MODIS</td>\n",
       "      <td>85</td>\n",
       "      <td>6.3</td>\n",
       "      <td>292.9</td>\n",
       "      <td>14.2</td>\n",
       "      <td>N</td>\n",
       "      <td>0</td>\n",
       "    </tr>\n",
       "    <tr>\n",
       "      <th>36007</th>\n",
       "      <td>-28.2625</td>\n",
       "      <td>128.5494</td>\n",
       "      <td>304.9</td>\n",
       "      <td>1.0</td>\n",
       "      <td>1.0</td>\n",
       "      <td>2019-09-30</td>\n",
       "      <td>1644</td>\n",
       "      <td>Aqua</td>\n",
       "      <td>MODIS</td>\n",
       "      <td>27</td>\n",
       "      <td>6.3</td>\n",
       "      <td>290.9</td>\n",
       "      <td>6.4</td>\n",
       "      <td>N</td>\n",
       "      <td>0</td>\n",
       "    </tr>\n",
       "    <tr>\n",
       "      <th>36008</th>\n",
       "      <td>-28.2941</td>\n",
       "      <td>128.5123</td>\n",
       "      <td>301.7</td>\n",
       "      <td>1.0</td>\n",
       "      <td>1.0</td>\n",
       "      <td>2019-09-30</td>\n",
       "      <td>1644</td>\n",
       "      <td>Aqua</td>\n",
       "      <td>MODIS</td>\n",
       "      <td>43</td>\n",
       "      <td>6.3</td>\n",
       "      <td>290.4</td>\n",
       "      <td>5.5</td>\n",
       "      <td>N</td>\n",
       "      <td>0</td>\n",
       "    </tr>\n",
       "    <tr>\n",
       "      <th>36009</th>\n",
       "      <td>-28.3001</td>\n",
       "      <td>128.5530</td>\n",
       "      <td>303.6</td>\n",
       "      <td>1.0</td>\n",
       "      <td>1.0</td>\n",
       "      <td>2019-09-30</td>\n",
       "      <td>1644</td>\n",
       "      <td>Aqua</td>\n",
       "      <td>MODIS</td>\n",
       "      <td>41</td>\n",
       "      <td>6.3</td>\n",
       "      <td>290.3</td>\n",
       "      <td>5.7</td>\n",
       "      <td>N</td>\n",
       "      <td>0</td>\n",
       "    </tr>\n",
       "    <tr>\n",
       "      <th>36010</th>\n",
       "      <td>-30.8641</td>\n",
       "      <td>121.4995</td>\n",
       "      <td>309.1</td>\n",
       "      <td>1.8</td>\n",
       "      <td>1.3</td>\n",
       "      <td>2019-09-30</td>\n",
       "      <td>1645</td>\n",
       "      <td>Aqua</td>\n",
       "      <td>MODIS</td>\n",
       "      <td>77</td>\n",
       "      <td>6.3</td>\n",
       "      <td>290.9</td>\n",
       "      <td>23.0</td>\n",
       "      <td>N</td>\n",
       "      <td>2</td>\n",
       "    </tr>\n",
       "  </tbody>\n",
       "</table>\n",
       "<p>36011 rows × 15 columns</p>\n",
       "</div>"
      ],
      "text/plain": [
       "       latitude  longitude  brightness  scan  track    acq_date  acq_time  \\\n",
       "0      -11.8070   142.0583       313.0   1.0    1.0  2019-08-01        56   \n",
       "1      -11.7924   142.0850       319.3   1.0    1.0  2019-08-01        56   \n",
       "2      -12.8398   132.8744       311.6   3.1    1.7  2019-08-01        57   \n",
       "3      -14.4306   143.3035       310.1   1.1    1.1  2019-08-01        57   \n",
       "4      -12.4953   131.4897       310.3   4.0    1.9  2019-08-01        57   \n",
       "...         ...        ...         ...   ...    ...         ...       ...   \n",
       "36006  -28.0656   131.6334       312.7   1.2    1.1  2019-09-30      1644   \n",
       "36007  -28.2625   128.5494       304.9   1.0    1.0  2019-09-30      1644   \n",
       "36008  -28.2941   128.5123       301.7   1.0    1.0  2019-09-30      1644   \n",
       "36009  -28.3001   128.5530       303.6   1.0    1.0  2019-09-30      1644   \n",
       "36010  -30.8641   121.4995       309.1   1.8    1.3  2019-09-30      1645   \n",
       "\n",
       "      satellite instrument  confidence  version  bright_t31   frp daynight  \\\n",
       "0         Terra      MODIS          48      6.3       297.3   6.6        D   \n",
       "1         Terra      MODIS          71      6.3       297.3  11.3        D   \n",
       "2         Terra      MODIS          42      6.3       298.7  23.1        D   \n",
       "3         Terra      MODIS          33      6.3       296.1   6.5        D   \n",
       "4         Terra      MODIS          36      6.3       298.8  27.6        D   \n",
       "...         ...        ...         ...      ...         ...   ...      ...   \n",
       "36006      Aqua      MODIS          85      6.3       292.9  14.2        N   \n",
       "36007      Aqua      MODIS          27      6.3       290.9   6.4        N   \n",
       "36008      Aqua      MODIS          43      6.3       290.4   5.5        N   \n",
       "36009      Aqua      MODIS          41      6.3       290.3   5.7        N   \n",
       "36010      Aqua      MODIS          77      6.3       290.9  23.0        N   \n",
       "\n",
       "       type  \n",
       "0         0  \n",
       "1         0  \n",
       "2         0  \n",
       "3         0  \n",
       "4         0  \n",
       "...     ...  \n",
       "36006     0  \n",
       "36007     0  \n",
       "36008     0  \n",
       "36009     0  \n",
       "36010     2  \n",
       "\n",
       "[36011 rows x 15 columns]"
      ]
     },
     "execution_count": 139,
     "metadata": {},
     "output_type": "execute_result"
    }
   ],
   "source": [
    "fire = fire_data # \"fire\" now becomes a pandas DataFrame object containing all the data\n",
    "fire.head() # Display the top five rows of the DataFrame\n",
    "#Q1 How many attribuites in the data set? Desribe the attribuites .\n",
    "#A1: There are totally 15 attributes in the dataset. The latitude and longitude attributes refer to the \n",
    "#    geographic location of the hotspots detected by the satellites. The brightness attribute is the pixel\n",
    "#    measurement of the temperature in Kelvin. Scan and Track attributes refers to the pixel measurement of \n",
    "#    the scanned area. acq_date refers to the date of acquisition of data while acq_time refers to the time spent\n",
    "#    during the acquisition of data. Satellite attribute refers to which satellite was used for acquiring the data \n",
    "#    while instrument refers to the instrument used by the satellites for measurmeent. Confidence refers to the\n",
    "#    quality of the hostpot in the specified region of interest. This parameter can be used to predict whether an \n",
    "#    hostspot is a fired area or not. This will be our target feature (Values greater than 60% or 70% ususally\n",
    "#    mean the hotspot is actually a firespot). Version attribute refers to the collection of source. bright_t31 \n",
    "#    is the pixel measurement of temperature in the 3-1 Channel. frp attribute depicts the pixel-integrated \n",
    "#    fire radiative power in MW (Mega Watts). Daynight attribute refers to when the instance were obtained, whether\n",
    "#    day or night. Finally the type attribute refers to the type of environment of the instance."
   ]
  },
  {
   "cell_type": "code",
   "execution_count": 20,
   "metadata": {
    "colab": {
     "base_uri": "https://localhost:8080/"
    },
    "id": "6jx67hw8hRrd",
    "outputId": "b7367d26-67ea-430f-82de-02c2c75f76bc"
   },
   "outputs": [
    {
     "name": "stdout",
     "output_type": "stream",
     "text": [
      "<class 'pandas.core.frame.DataFrame'>\n",
      "RangeIndex: 36011 entries, 0 to 36010\n",
      "Data columns (total 15 columns):\n",
      " #   Column      Non-Null Count  Dtype  \n",
      "---  ------      --------------  -----  \n",
      " 0   latitude    36011 non-null  float64\n",
      " 1   longitude   36011 non-null  float64\n",
      " 2   brightness  36011 non-null  float64\n",
      " 3   scan        36011 non-null  float64\n",
      " 4   track       36011 non-null  float64\n",
      " 5   acq_date    36011 non-null  object \n",
      " 6   acq_time    36011 non-null  int64  \n",
      " 7   satellite   36011 non-null  object \n",
      " 8   instrument  36011 non-null  object \n",
      " 9   confidence  36011 non-null  int64  \n",
      " 10  version     36011 non-null  float64\n",
      " 11  bright_t31  36011 non-null  float64\n",
      " 12  frp         36011 non-null  float64\n",
      " 13  daynight    36011 non-null  object \n",
      " 14  type        36011 non-null  int64  \n",
      "dtypes: float64(8), int64(3), object(4)\n",
      "memory usage: 4.1+ MB\n"
     ]
    }
   ],
   "source": [
    "#This method prints information about a DataFrame including the dtype and columns, non-null values and memory usage.\n",
    "fire.info() \n",
    "#Q2 Can you tell if there are any missing values? If yes, which attribuites contain missing values ? \n",
    "#A2: There are no missing values in the dataset, fortunately. This will probably help us in accurately predicting \n",
    "#     the target feature."
   ]
  },
  {
   "cell_type": "markdown",
   "metadata": {
    "id": "co0dQ38ShRrf"
   },
   "source": [
    "All attributes are numerical, except the acq_date, satellite, instrument and daynight. We need to explore the \n",
    "possibility of changing the data type of acq_date as it cannot be considered as a categorical data."
   ]
  },
  {
   "cell_type": "code",
   "execution_count": 21,
   "metadata": {
    "colab": {
     "base_uri": "https://localhost:8080/"
    },
    "id": "3pcwbiQOhRrg",
    "outputId": "8aef3a04-32fd-417e-bdbb-20406db142ef"
   },
   "outputs": [
    {
     "name": "stdout",
     "output_type": "stream",
     "text": [
      "D    28203\n",
      "N     7808\n",
      "Name: daynight, dtype: int64\n",
      "MODIS    36011\n",
      "Name: instrument, dtype: int64\n",
      "Aqua     20541\n",
      "Terra    15470\n",
      "Name: satellite, dtype: int64\n"
     ]
    }
   ],
   "source": [
    "print(fire[\"daynight\"].value_counts())\n",
    "print(fire[\"instrument\"].value_counts())\n",
    "print(fire[\"satellite\"].value_counts())\n",
    "# Q3 What does the value_count() method display?\n",
    "# A3: The value_count() displays the number of values in each category of an attribute across the dataset. Here\n",
    "#     there are 28,203 values indicating that the respective measurements were taken during daytime while 7,808 \n",
    "#     values indicating that those measurements were taken during night time. The satelliete dataset has two \n",
    "#     categories indicating the model of satellite that was used for measurmenet. It is observed that the \n",
    "#     instrument attribute has only one category  across the entire dataset, which clearly indicates that the \n",
    "#     attribute can dropped from the dataset when processing. "
   ]
  },
  {
   "cell_type": "code",
   "execution_count": 22,
   "metadata": {
    "colab": {
     "base_uri": "https://localhost:8080/",
     "height": 317
    },
    "id": "UCE1jukBhRrg",
    "outputId": "09d3e84c-557a-47ac-dbbc-8add01ed3c31"
   },
   "outputs": [
    {
     "data": {
      "text/html": [
       "<div>\n",
       "<style scoped>\n",
       "    .dataframe tbody tr th:only-of-type {\n",
       "        vertical-align: middle;\n",
       "    }\n",
       "\n",
       "    .dataframe tbody tr th {\n",
       "        vertical-align: top;\n",
       "    }\n",
       "\n",
       "    .dataframe thead th {\n",
       "        text-align: right;\n",
       "    }\n",
       "</style>\n",
       "<table border=\"1\" class=\"dataframe\">\n",
       "  <thead>\n",
       "    <tr style=\"text-align: right;\">\n",
       "      <th></th>\n",
       "      <th>latitude</th>\n",
       "      <th>longitude</th>\n",
       "      <th>brightness</th>\n",
       "      <th>scan</th>\n",
       "      <th>track</th>\n",
       "      <th>acq_time</th>\n",
       "      <th>confidence</th>\n",
       "      <th>version</th>\n",
       "      <th>bright_t31</th>\n",
       "      <th>frp</th>\n",
       "      <th>type</th>\n",
       "    </tr>\n",
       "  </thead>\n",
       "  <tbody>\n",
       "    <tr>\n",
       "      <th>count</th>\n",
       "      <td>36011.000000</td>\n",
       "      <td>36011.000000</td>\n",
       "      <td>36011.000000</td>\n",
       "      <td>36011.000000</td>\n",
       "      <td>36011.000000</td>\n",
       "      <td>36011.000000</td>\n",
       "      <td>36011.000000</td>\n",
       "      <td>3.601100e+04</td>\n",
       "      <td>36011.000000</td>\n",
       "      <td>36011.000000</td>\n",
       "      <td>36011.000000</td>\n",
       "    </tr>\n",
       "    <tr>\n",
       "      <th>mean</th>\n",
       "      <td>-19.100962</td>\n",
       "      <td>138.931446</td>\n",
       "      <td>328.750696</td>\n",
       "      <td>1.620905</td>\n",
       "      <td>1.215281</td>\n",
       "      <td>600.025798</td>\n",
       "      <td>67.551387</td>\n",
       "      <td>6.300000e+00</td>\n",
       "      <td>301.339138</td>\n",
       "      <td>51.132176</td>\n",
       "      <td>0.019439</td>\n",
       "    </tr>\n",
       "    <tr>\n",
       "      <th>std</th>\n",
       "      <td>7.265777</td>\n",
       "      <td>9.261400</td>\n",
       "      <td>18.992808</td>\n",
       "      <td>0.813764</td>\n",
       "      <td>0.247852</td>\n",
       "      <td>548.369111</td>\n",
       "      <td>23.179946</td>\n",
       "      <td>3.728625e-12</td>\n",
       "      <td>9.724462</td>\n",
       "      <td>92.280112</td>\n",
       "      <td>0.198326</td>\n",
       "    </tr>\n",
       "    <tr>\n",
       "      <th>min</th>\n",
       "      <td>-42.762800</td>\n",
       "      <td>114.104300</td>\n",
       "      <td>300.000000</td>\n",
       "      <td>1.000000</td>\n",
       "      <td>1.000000</td>\n",
       "      <td>0.000000</td>\n",
       "      <td>0.000000</td>\n",
       "      <td>6.300000e+00</td>\n",
       "      <td>267.000000</td>\n",
       "      <td>0.000000</td>\n",
       "      <td>0.000000</td>\n",
       "    </tr>\n",
       "    <tr>\n",
       "      <th>25%</th>\n",
       "      <td>-26.370250</td>\n",
       "      <td>131.072250</td>\n",
       "      <td>316.500000</td>\n",
       "      <td>1.100000</td>\n",
       "      <td>1.000000</td>\n",
       "      <td>205.000000</td>\n",
       "      <td>52.000000</td>\n",
       "      <td>6.300000e+00</td>\n",
       "      <td>293.600000</td>\n",
       "      <td>13.800000</td>\n",
       "      <td>0.000000</td>\n",
       "    </tr>\n",
       "    <tr>\n",
       "      <th>50%</th>\n",
       "      <td>-15.706500</td>\n",
       "      <td>136.738500</td>\n",
       "      <td>326.400000</td>\n",
       "      <td>1.300000</td>\n",
       "      <td>1.100000</td>\n",
       "      <td>424.000000</td>\n",
       "      <td>70.000000</td>\n",
       "      <td>6.300000e+00</td>\n",
       "      <td>302.400000</td>\n",
       "      <td>25.800000</td>\n",
       "      <td>0.000000</td>\n",
       "    </tr>\n",
       "    <tr>\n",
       "      <th>75%</th>\n",
       "      <td>-13.343600</td>\n",
       "      <td>147.477500</td>\n",
       "      <td>336.700000</td>\n",
       "      <td>1.900000</td>\n",
       "      <td>1.300000</td>\n",
       "      <td>600.000000</td>\n",
       "      <td>86.000000</td>\n",
       "      <td>6.300000e+00</td>\n",
       "      <td>308.600000</td>\n",
       "      <td>52.800000</td>\n",
       "      <td>0.000000</td>\n",
       "    </tr>\n",
       "    <tr>\n",
       "      <th>max</th>\n",
       "      <td>-10.072600</td>\n",
       "      <td>153.490400</td>\n",
       "      <td>504.400000</td>\n",
       "      <td>4.800000</td>\n",
       "      <td>2.000000</td>\n",
       "      <td>2359.000000</td>\n",
       "      <td>100.000000</td>\n",
       "      <td>6.300000e+00</td>\n",
       "      <td>400.100000</td>\n",
       "      <td>3679.500000</td>\n",
       "      <td>3.000000</td>\n",
       "    </tr>\n",
       "  </tbody>\n",
       "</table>\n",
       "</div>"
      ],
      "text/plain": [
       "           latitude     longitude    brightness          scan         track  \\\n",
       "count  36011.000000  36011.000000  36011.000000  36011.000000  36011.000000   \n",
       "mean     -19.100962    138.931446    328.750696      1.620905      1.215281   \n",
       "std        7.265777      9.261400     18.992808      0.813764      0.247852   \n",
       "min      -42.762800    114.104300    300.000000      1.000000      1.000000   \n",
       "25%      -26.370250    131.072250    316.500000      1.100000      1.000000   \n",
       "50%      -15.706500    136.738500    326.400000      1.300000      1.100000   \n",
       "75%      -13.343600    147.477500    336.700000      1.900000      1.300000   \n",
       "max      -10.072600    153.490400    504.400000      4.800000      2.000000   \n",
       "\n",
       "           acq_time    confidence       version    bright_t31           frp  \\\n",
       "count  36011.000000  36011.000000  3.601100e+04  36011.000000  36011.000000   \n",
       "mean     600.025798     67.551387  6.300000e+00    301.339138     51.132176   \n",
       "std      548.369111     23.179946  3.728625e-12      9.724462     92.280112   \n",
       "min        0.000000      0.000000  6.300000e+00    267.000000      0.000000   \n",
       "25%      205.000000     52.000000  6.300000e+00    293.600000     13.800000   \n",
       "50%      424.000000     70.000000  6.300000e+00    302.400000     25.800000   \n",
       "75%      600.000000     86.000000  6.300000e+00    308.600000     52.800000   \n",
       "max     2359.000000    100.000000  6.300000e+00    400.100000   3679.500000   \n",
       "\n",
       "               type  \n",
       "count  36011.000000  \n",
       "mean       0.019439  \n",
       "std        0.198326  \n",
       "min        0.000000  \n",
       "25%        0.000000  \n",
       "50%        0.000000  \n",
       "75%        0.000000  \n",
       "max        3.000000  "
      ]
     },
     "execution_count": 22,
     "metadata": {},
     "output_type": "execute_result"
    }
   ],
   "source": [
    "#This method shows a statistical summary of the numerical attributes \n",
    "fire.describe() "
   ]
  },
  {
   "cell_type": "markdown",
   "metadata": {
    "id": "DTWv5nPvhRrh"
   },
   "source": [
    "The 25%, 50%, and 75% rows show the corresponding percentiles: a percentile indicates the value below which a given percentage of observations in a group of observations fall."
   ]
  },
  {
   "cell_type": "code",
   "execution_count": 23,
   "metadata": {
    "colab": {
     "base_uri": "https://localhost:8080/",
     "height": 838
    },
    "id": "zL4M1klihRri",
    "outputId": "daab2804-eae7-421b-c2f3-4cc1fb38c6d0"
   },
   "outputs": [
    {
     "data": {
      "image/png": "[encoded data removed]",
      "text/plain": [
       "<Figure size 1440x1080 with 12 Axes>"
      ]
     },
     "metadata": {
      "needs_background": "light"
     },
     "output_type": "display_data"
    }
   ],
   "source": [
    "#To plot a histogram for each numerical attribute\n",
    "fire.hist(bins=50, figsize=(20,15))\n",
    "plt.show()\n",
    "# Q4 List down the main observations you noted from the statistical summary and the histogram\n",
    "# A4: The statistical summary and the histograms do not consider the categorical data or more precisely they do not\n",
    "#     consider the object type of data. While the acq_date is not a categorical data, we have to consider the \n",
    "#     activity of changing the data type.\n"
   ]
  },
  {
   "cell_type": "markdown",
   "metadata": {
    "id": "vGnSGS0whRrj"
   },
   "source": [
    "# Visualizing Geographical Data"
   ]
  },
  {
   "cell_type": "code",
   "execution_count": 24,
   "metadata": {
    "colab": {
     "base_uri": "https://localhost:8080/",
     "height": 296
    },
    "id": "Bkv5ZfAthRrj",
    "outputId": "80857803-d161-47e2-d92d-4e267f516cc6"
   },
   "outputs": [
    {
     "data": {
      "text/plain": [
       "<AxesSubplot:xlabel='longitude', ylabel='latitude'>"
      ]
     },
     "execution_count": 24,
     "metadata": {},
     "output_type": "execute_result"
    },
    {
     "data": {
      "image/png": "[encoded data removed]",
      "text/plain": [
       "<Figure size 432x288 with 1 Axes>"
      ]
     },
     "metadata": {
      "needs_background": "light"
     },
     "output_type": "display_data"
    }
   ],
   "source": [
    "# Q5 Now you will plot 3 different variations of the data, which one is more indicative and why?\n",
    "# A5: The first plot does not help us in finding any particular pattern. The second plot is comparitively better\n",
    "#     in representing the density of areas where the measurement were taken. The third plot is more indicative\n",
    "#     as we can understand the different confidence levels of hotspot across the areas.\n",
    "fire.plot(kind=\"scatter\", x=\"longitude\", y=\"latitude\")\n"
   ]
  },
  {
   "cell_type": "code",
   "execution_count": 25,
   "metadata": {
    "colab": {
     "base_uri": "https://localhost:8080/",
     "height": 296
    },
    "id": "DMXDywM6hRrk",
    "outputId": "e7e83c79-0847-4cff-982c-0d6ea76fa996"
   },
   "outputs": [
    {
     "data": {
      "text/plain": [
       "<AxesSubplot:xlabel='longitude', ylabel='latitude'>"
      ]
     },
     "execution_count": 25,
     "metadata": {},
     "output_type": "execute_result"
    },
    {
     "data": {
      "image/png": "[encoded data removed]",
      "text/plain": [
       "<Figure size 432x288 with 1 Axes>"
      ]
     },
     "metadata": {
      "needs_background": "light"
     },
     "output_type": "display_data"
    }
   ],
   "source": [
    "fire.plot(kind=\"scatter\", x=\"longitude\", y=\"latitude\", alpha=0.1)"
   ]
  },
  {
   "cell_type": "markdown",
   "metadata": {},
   "source": [
    "The above plot helps us  to better understand the density of the areas where the measurements were taken "
   ]
  },
  {
   "cell_type": "code",
   "execution_count": 26,
   "metadata": {
    "colab": {
     "base_uri": "https://localhost:8080/",
     "height": 436
    },
    "id": "WbAS37_mhRrl",
    "outputId": "6b8fa0e8-ed42-412b-9a1a-3e674366b26d"
   },
   "outputs": [
    {
     "name": "stderr",
     "output_type": "stream",
     "text": [
      "No artists with labels found to put in legend.  Note that artists whose label start with an underscore are ignored when legend() is called with no argument.\n"
     ]
    },
    {
     "data": {
      "text/plain": [
       "<matplotlib.legend.Legend at 0x15f5cd130>"
      ]
     },
     "execution_count": 26,
     "metadata": {},
     "output_type": "execute_result"
    },
    {
     "data": {
      "image/png": "[encoded data removed]",
      "text/plain": [
       "<Figure size 432x288 with 2 Axes>"
      ]
     },
     "metadata": {
      "needs_background": "light"
     },
     "output_type": "display_data"
    }
   ],
   "source": [
    "fire.plot(kind=\"scatter\", x=\"longitude\", y=\"latitude\", alpha=0.4,\n",
    "    #s=fire[\"brightness\"]/100, label=\"brightness\", figsize=(10,7),\n",
    "    c=\"confidence\", cmap=plt.get_cmap(\"jet\"), colorbar=True,\n",
    ")\n",
    "plt.legend()\n",
    "# plots the confidence of the hotspots with red being high confidence and blue being low confidence. \n"
   ]
  },
  {
   "cell_type": "code",
   "execution_count": 27,
   "metadata": {
    "id": "mPFFmODqhRrm"
   },
   "outputs": [],
   "source": [
    "# Now we will look at the correlation of all the attributes with the expected class attribute (confidence)\n",
    "corr_matrix = fire.corr() # computes the standard correlation coefficient (Pearson’s r) between every pair of attributes"
   ]
  },
  {
   "cell_type": "code",
   "execution_count": 28,
   "metadata": {
    "colab": {
     "base_uri": "https://localhost:8080/"
    },
    "id": "HL9bYSdZhRrn",
    "outputId": "6983d728-179b-4c9e-91c0-8bf7f6b40839"
   },
   "outputs": [
    {
     "data": {
      "text/plain": [
       "confidence    1.000000\n",
       "brightness    0.614691\n",
       "frp           0.355388\n",
       "bright_t31    0.238506\n",
       "latitude      0.020656\n",
       "longitude    -0.035529\n",
       "type         -0.041632\n",
       "acq_time     -0.070012\n",
       "scan         -0.103808\n",
       "track        -0.105949\n",
       "version            NaN\n",
       "Name: confidence, dtype: float64"
      ]
     },
     "execution_count": 28,
     "metadata": {},
     "output_type": "execute_result"
    }
   ],
   "source": [
    "corr_matrix[\"confidence\"].sort_values(ascending=False)\n",
    "# Q6 Which are the most correlated attributes with the output variable(i.e.confidence)?\n",
    "# Does that make sense?\n",
    "# A6: The most correlated attributes with the target attribute confidence are the brightness and the frp such that\n",
    "#     they have strong positive correlation. According to the definitions of these two attributes, it makes\n",
    "#     sense that the brightness, which is the temperature of hotspot region, and the frp, which is the \n",
    "#     radiative power of the hotspot, can affect the confidence of the hotspot more than the other features. \n",
    "#     The scan, track and acq_time attributes have negative correlation with the confidence attribute. This may \n",
    "#     be due to the reason that the more amount of time the satellite spends on a particular region of interest,\n",
    "#     the less likely it can be that that region has low confidence of hotspot"
   ]
  },
  {
   "cell_type": "code",
   "execution_count": 29,
   "metadata": {
    "colab": {
     "base_uri": "https://localhost:8080/",
     "height": 807
    },
    "id": "pM2GqEYNhRrn",
    "outputId": "7e6339f4-456d-4854-909e-c2e9023f1501"
   },
   "outputs": [
    {
     "data": {
      "text/plain": [
       "array([[<AxesSubplot:xlabel='confidence', ylabel='confidence'>,\n",
       "        <AxesSubplot:xlabel='brightness', ylabel='confidence'>,\n",
       "        <AxesSubplot:xlabel='frp', ylabel='confidence'>,\n",
       "        <AxesSubplot:xlabel='bright_t31', ylabel='confidence'>],\n",
       "       [<AxesSubplot:xlabel='confidence', ylabel='brightness'>,\n",
       "        <AxesSubplot:xlabel='brightness', ylabel='brightness'>,\n",
       "        <AxesSubplot:xlabel='frp', ylabel='brightness'>,\n",
       "        <AxesSubplot:xlabel='bright_t31', ylabel='brightness'>],\n",
       "       [<AxesSubplot:xlabel='confidence', ylabel='frp'>,\n",
       "        <AxesSubplot:xlabel='brightness', ylabel='frp'>,\n",
       "        <AxesSubplot:xlabel='frp', ylabel='frp'>,\n",
       "        <AxesSubplot:xlabel='bright_t31', ylabel='frp'>],\n",
       "       [<AxesSubplot:xlabel='confidence', ylabel='bright_t31'>,\n",
       "        <AxesSubplot:xlabel='brightness', ylabel='bright_t31'>,\n",
       "        <AxesSubplot:xlabel='frp', ylabel='bright_t31'>,\n",
       "        <AxesSubplot:xlabel='bright_t31', ylabel='bright_t31'>]],\n",
       "      dtype=object)"
      ]
     },
     "execution_count": 29,
     "metadata": {},
     "output_type": "execute_result"
    },
    {
     "data": {
      "image/png": "[encoded data removed]",
      "text/plain": [
       "<Figure size 864x576 with 16 Axes>"
      ]
     },
     "metadata": {
      "needs_background": "light"
     },
     "output_type": "display_data"
    }
   ],
   "source": [
    "from pandas.plotting import scatter_matrix\n",
    "\n",
    "attributes = [\"confidence\", \"brightness\", \"frp\",\n",
    "              \"bright_t31\"]\n",
    "scatter_matrix(fire[attributes], figsize=(12, 8))\n",
    "# Another way to check for correlation between attributes is to use the pandas scatter_matrix() function above\n",
    "# Here we choose to plot 4 promising  numerical attributes against each other\n"
   ]
  },
  {
   "cell_type": "code",
   "execution_count": 30,
   "metadata": {
    "colab": {
     "base_uri": "https://localhost:8080/",
     "height": 297
    },
    "id": "FcYqngBShRro",
    "outputId": "92207209-5012-415a-c931-61bfd9a63354"
   },
   "outputs": [
    {
     "data": {
      "text/plain": [
       "(300.0, 500.0, 0.0, 100.0)"
      ]
     },
     "execution_count": 30,
     "metadata": {},
     "output_type": "execute_result"
    },
    {
     "data": {
      "image/png": "[encoded data removed]",
      "text/plain": [
       "<Figure size 432x288 with 1 Axes>"
      ]
     },
     "metadata": {
      "needs_background": "light"
     },
     "output_type": "display_data"
    }
   ],
   "source": [
    "# let’s zoom in on the correlation scatterplot \"confidence & the brightness,\"\n",
    "fire.plot(kind=\"scatter\", x=\"brightness\", y=\"confidence\",\n",
    "             alpha=0.1)\n",
    "plt.axis([300, 500, 0, 100])\n",
    "#Q7 Describe the plot below. What does this indicate? Do you have an explanation for the solid line?\n",
    "#A7:  Due to the upward trend, it can be concluded that the correlation is very strong. There are straight  \n",
    "#     horizontal lines at around 100, 90, 85, 75 and even around 0. This needs to be considered in order to prevent\n",
    "#     data quirks"
   ]
  },
  {
   "cell_type": "markdown",
   "metadata": {},
   "source": [
    "# Dealing with Null Values"
   ]
  },
  {
   "cell_type": "markdown",
   "metadata": {},
   "source": [
    "Since this dataset does not have null values, we are inserting null values to some records to demonstrate the Data Cleaning Process"
   ]
  },
  {
   "cell_type": "code",
   "execution_count": 31,
   "metadata": {},
   "outputs": [
    {
     "data": {
      "text/html": [
       "<div>\n",
       "<style scoped>\n",
       "    .dataframe tbody tr th:only-of-type {\n",
       "        vertical-align: middle;\n",
       "    }\n",
       "\n",
       "    .dataframe tbody tr th {\n",
       "        vertical-align: top;\n",
       "    }\n",
       "\n",
       "    .dataframe thead th {\n",
       "        text-align: right;\n",
       "    }\n",
       "</style>\n",
       "<table border=\"1\" class=\"dataframe\">\n",
       "  <thead>\n",
       "    <tr style=\"text-align: right;\">\n",
       "      <th></th>\n",
       "      <th>latitude</th>\n",
       "      <th>longitude</th>\n",
       "      <th>brightness</th>\n",
       "      <th>scan</th>\n",
       "      <th>track</th>\n",
       "      <th>acq_date</th>\n",
       "      <th>acq_time</th>\n",
       "      <th>satellite</th>\n",
       "      <th>instrument</th>\n",
       "      <th>confidence</th>\n",
       "      <th>version</th>\n",
       "      <th>bright_t31</th>\n",
       "      <th>frp</th>\n",
       "      <th>daynight</th>\n",
       "      <th>type</th>\n",
       "    </tr>\n",
       "  </thead>\n",
       "  <tbody>\n",
       "  </tbody>\n",
       "</table>\n",
       "</div>"
      ],
      "text/plain": [
       "Empty DataFrame\n",
       "Columns: [latitude, longitude, brightness, scan, track, acq_date, acq_time, satellite, instrument, confidence, version, bright_t31, frp, daynight, type]\n",
       "Index: []"
      ]
     },
     "execution_count": 31,
     "metadata": {},
     "output_type": "execute_result"
    }
   ],
   "source": [
    "sample_incomplete_rows = fire[fire.isnull().any(axis=1)].head()\n",
    "sample_incomplete_rows"
   ]
  },
  {
   "cell_type": "code",
   "execution_count": 32,
   "metadata": {},
   "outputs": [
    {
     "data": {
      "text/html": [
       "<div>\n",
       "<style scoped>\n",
       "    .dataframe tbody tr th:only-of-type {\n",
       "        vertical-align: middle;\n",
       "    }\n",
       "\n",
       "    .dataframe tbody tr th {\n",
       "        vertical-align: top;\n",
       "    }\n",
       "\n",
       "    .dataframe thead th {\n",
       "        text-align: right;\n",
       "    }\n",
       "</style>\n",
       "<table border=\"1\" class=\"dataframe\">\n",
       "  <thead>\n",
       "    <tr style=\"text-align: right;\">\n",
       "      <th></th>\n",
       "      <th>latitude</th>\n",
       "      <th>longitude</th>\n",
       "      <th>brightness</th>\n",
       "      <th>scan</th>\n",
       "      <th>track</th>\n",
       "      <th>acq_date</th>\n",
       "      <th>acq_time</th>\n",
       "      <th>satellite</th>\n",
       "      <th>instrument</th>\n",
       "      <th>confidence</th>\n",
       "      <th>version</th>\n",
       "      <th>bright_t31</th>\n",
       "      <th>frp</th>\n",
       "      <th>daynight</th>\n",
       "      <th>type</th>\n",
       "    </tr>\n",
       "  </thead>\n",
       "  <tbody>\n",
       "  </tbody>\n",
       "</table>\n",
       "</div>"
      ],
      "text/plain": [
       "Empty DataFrame\n",
       "Columns: [latitude, longitude, brightness, scan, track, acq_date, acq_time, satellite, instrument, confidence, version, bright_t31, frp, daynight, type]\n",
       "Index: []"
      ]
     },
     "execution_count": 32,
     "metadata": {},
     "output_type": "execute_result"
    }
   ],
   "source": [
    "sample_incomplete_rows.dropna(subset=[\"acq_time\"])"
   ]
  },
  {
   "cell_type": "code",
   "execution_count": 33,
   "metadata": {},
   "outputs": [
    {
     "data": {
      "text/html": [
       "<div>\n",
       "<style scoped>\n",
       "    .dataframe tbody tr th:only-of-type {\n",
       "        vertical-align: middle;\n",
       "    }\n",
       "\n",
       "    .dataframe tbody tr th {\n",
       "        vertical-align: top;\n",
       "    }\n",
       "\n",
       "    .dataframe thead th {\n",
       "        text-align: right;\n",
       "    }\n",
       "</style>\n",
       "<table border=\"1\" class=\"dataframe\">\n",
       "  <thead>\n",
       "    <tr style=\"text-align: right;\">\n",
       "      <th></th>\n",
       "      <th>latitude</th>\n",
       "      <th>longitude</th>\n",
       "      <th>brightness</th>\n",
       "      <th>scan</th>\n",
       "      <th>track</th>\n",
       "      <th>acq_date</th>\n",
       "      <th>satellite</th>\n",
       "      <th>instrument</th>\n",
       "      <th>confidence</th>\n",
       "      <th>version</th>\n",
       "      <th>bright_t31</th>\n",
       "      <th>frp</th>\n",
       "      <th>daynight</th>\n",
       "      <th>type</th>\n",
       "    </tr>\n",
       "  </thead>\n",
       "  <tbody>\n",
       "  </tbody>\n",
       "</table>\n",
       "</div>"
      ],
      "text/plain": [
       "Empty DataFrame\n",
       "Columns: [latitude, longitude, brightness, scan, track, acq_date, satellite, instrument, confidence, version, bright_t31, frp, daynight, type]\n",
       "Index: []"
      ]
     },
     "execution_count": 33,
     "metadata": {},
     "output_type": "execute_result"
    }
   ],
   "source": [
    "sample_incomplete_rows.drop(\"acq_time\", axis=1) "
   ]
  },
  {
   "cell_type": "code",
   "execution_count": 34,
   "metadata": {},
   "outputs": [],
   "source": [
    "median = fire[\"acq_time\"].median() # calculate the median of total_bedrooms\n",
    "fire[\"acq_time\"].fillna(median, inplace=True)"
   ]
  },
  {
   "cell_type": "code",
   "execution_count": 35,
   "metadata": {},
   "outputs": [
    {
     "data": {
      "text/html": [
       "<div>\n",
       "<style scoped>\n",
       "    .dataframe tbody tr th:only-of-type {\n",
       "        vertical-align: middle;\n",
       "    }\n",
       "\n",
       "    .dataframe tbody tr th {\n",
       "        vertical-align: top;\n",
       "    }\n",
       "\n",
       "    .dataframe thead th {\n",
       "        text-align: right;\n",
       "    }\n",
       "</style>\n",
       "<table border=\"1\" class=\"dataframe\">\n",
       "  <thead>\n",
       "    <tr style=\"text-align: right;\">\n",
       "      <th></th>\n",
       "      <th>latitude</th>\n",
       "      <th>longitude</th>\n",
       "      <th>brightness</th>\n",
       "      <th>scan</th>\n",
       "      <th>track</th>\n",
       "      <th>acq_date</th>\n",
       "      <th>acq_time</th>\n",
       "      <th>satellite</th>\n",
       "      <th>instrument</th>\n",
       "      <th>confidence</th>\n",
       "      <th>version</th>\n",
       "      <th>bright_t31</th>\n",
       "      <th>frp</th>\n",
       "      <th>daynight</th>\n",
       "      <th>type</th>\n",
       "    </tr>\n",
       "  </thead>\n",
       "  <tbody>\n",
       "    <tr>\n",
       "      <th>0</th>\n",
       "      <td>-11.8070</td>\n",
       "      <td>142.0583</td>\n",
       "      <td>313.0</td>\n",
       "      <td>1.0</td>\n",
       "      <td>1.0</td>\n",
       "      <td>2019-08-01</td>\n",
       "      <td>56</td>\n",
       "      <td>Terra</td>\n",
       "      <td>MODIS</td>\n",
       "      <td>48</td>\n",
       "      <td>6.3</td>\n",
       "      <td>297.3</td>\n",
       "      <td>6.6</td>\n",
       "      <td>D</td>\n",
       "      <td>0</td>\n",
       "    </tr>\n",
       "    <tr>\n",
       "      <th>1</th>\n",
       "      <td>-11.7924</td>\n",
       "      <td>142.0850</td>\n",
       "      <td>319.3</td>\n",
       "      <td>1.0</td>\n",
       "      <td>1.0</td>\n",
       "      <td>2019-08-01</td>\n",
       "      <td>56</td>\n",
       "      <td>Terra</td>\n",
       "      <td>MODIS</td>\n",
       "      <td>71</td>\n",
       "      <td>6.3</td>\n",
       "      <td>297.3</td>\n",
       "      <td>11.3</td>\n",
       "      <td>D</td>\n",
       "      <td>0</td>\n",
       "    </tr>\n",
       "    <tr>\n",
       "      <th>2</th>\n",
       "      <td>-12.8398</td>\n",
       "      <td>132.8744</td>\n",
       "      <td>311.6</td>\n",
       "      <td>3.1</td>\n",
       "      <td>1.7</td>\n",
       "      <td>2019-08-01</td>\n",
       "      <td>57</td>\n",
       "      <td>Terra</td>\n",
       "      <td>MODIS</td>\n",
       "      <td>42</td>\n",
       "      <td>6.3</td>\n",
       "      <td>298.7</td>\n",
       "      <td>23.1</td>\n",
       "      <td>D</td>\n",
       "      <td>0</td>\n",
       "    </tr>\n",
       "    <tr>\n",
       "      <th>3</th>\n",
       "      <td>-14.4306</td>\n",
       "      <td>143.3035</td>\n",
       "      <td>310.1</td>\n",
       "      <td>1.1</td>\n",
       "      <td>1.1</td>\n",
       "      <td>2019-08-01</td>\n",
       "      <td>57</td>\n",
       "      <td>Terra</td>\n",
       "      <td>MODIS</td>\n",
       "      <td>33</td>\n",
       "      <td>6.3</td>\n",
       "      <td>296.1</td>\n",
       "      <td>6.5</td>\n",
       "      <td>D</td>\n",
       "      <td>0</td>\n",
       "    </tr>\n",
       "    <tr>\n",
       "      <th>4</th>\n",
       "      <td>-12.4953</td>\n",
       "      <td>131.4897</td>\n",
       "      <td>310.3</td>\n",
       "      <td>4.0</td>\n",
       "      <td>1.9</td>\n",
       "      <td>2019-08-01</td>\n",
       "      <td>57</td>\n",
       "      <td>Terra</td>\n",
       "      <td>MODIS</td>\n",
       "      <td>36</td>\n",
       "      <td>6.3</td>\n",
       "      <td>298.8</td>\n",
       "      <td>27.6</td>\n",
       "      <td>D</td>\n",
       "      <td>0</td>\n",
       "    </tr>\n",
       "  </tbody>\n",
       "</table>\n",
       "</div>"
      ],
      "text/plain": [
       "   latitude  longitude  brightness  scan  track    acq_date  acq_time  \\\n",
       "0  -11.8070   142.0583       313.0   1.0    1.0  2019-08-01        56   \n",
       "1  -11.7924   142.0850       319.3   1.0    1.0  2019-08-01        56   \n",
       "2  -12.8398   132.8744       311.6   3.1    1.7  2019-08-01        57   \n",
       "3  -14.4306   143.3035       310.1   1.1    1.1  2019-08-01        57   \n",
       "4  -12.4953   131.4897       310.3   4.0    1.9  2019-08-01        57   \n",
       "\n",
       "  satellite instrument  confidence  version  bright_t31   frp daynight  type  \n",
       "0     Terra      MODIS          48      6.3       297.3   6.6        D     0  \n",
       "1     Terra      MODIS          71      6.3       297.3  11.3        D     0  \n",
       "2     Terra      MODIS          42      6.3       298.7  23.1        D     0  \n",
       "3     Terra      MODIS          33      6.3       296.1   6.5        D     0  \n",
       "4     Terra      MODIS          36      6.3       298.8  27.6        D     0  "
      ]
     },
     "execution_count": 35,
     "metadata": {},
     "output_type": "execute_result"
    }
   ],
   "source": [
    "fire.head()"
   ]
  },
  {
   "cell_type": "markdown",
   "metadata": {
    "id": "WnX7vYm2hRr5"
   },
   "source": [
    "## Scikit-Learn solution (optional)\n"
   ]
  },
  {
   "cell_type": "code",
   "execution_count": 36,
   "metadata": {
    "id": "LyOLU4ClhRr6"
   },
   "outputs": [],
   "source": [
    "from sklearn.impute import SimpleImputer      # Look up SimpleImputer Class in Sklearn Documenation\n",
    "imputer = SimpleImputer(strategy=\"median\")    # Replace each missing attribute with median of that attribute "
   ]
  },
  {
   "cell_type": "code",
   "execution_count": 37,
   "metadata": {
    "id": "cFC2uLDmhRr7"
   },
   "outputs": [],
   "source": [
    "#We cant compute the median of a categorical data, therefore we are creating a copy of the data without cat. data\n",
    "fire_num = fire.drop([\"acq_date\",\"satellite\", \"instrument\", \"version\", \"daynight\"] ,axis=1) "
   ]
  },
  {
   "cell_type": "code",
   "execution_count": 38,
   "metadata": {
    "colab": {
     "base_uri": "https://localhost:8080/"
    },
    "id": "2o5sV5I4hRr8",
    "outputId": "c6fa4095-ba17-41ed-b8b6-c89a5dc05d09"
   },
   "outputs": [
    {
     "data": {
      "text/plain": [
       "SimpleImputer(strategy='median')"
      ]
     },
     "execution_count": 38,
     "metadata": {},
     "output_type": "execute_result"
    }
   ],
   "source": [
    "imputer.fit(fire_num)"
   ]
  },
  {
   "cell_type": "markdown",
   "metadata": {
    "id": "qjn5yCXnhRr8"
   },
   "source": [
    "The imputer has simply computed the median of each attribute and stored the result in its `statistics_` instance variable. "
   ]
  },
  {
   "cell_type": "code",
   "execution_count": 39,
   "metadata": {
    "colab": {
     "base_uri": "https://localhost:8080/"
    },
    "id": "zg6TgmeGhRr8",
    "outputId": "33945d78-4218-4081-b5e8-3e4a24e7452f"
   },
   "outputs": [
    {
     "data": {
      "text/plain": [
       "array([-15.7065, 136.7385, 326.4   ,   1.3   ,   1.1   , 424.    ,\n",
       "        70.    , 302.4   ,  25.8   ,   0.    ])"
      ]
     },
     "execution_count": 39,
     "metadata": {},
     "output_type": "execute_result"
    }
   ],
   "source": [
    "imputer.statistics_"
   ]
  },
  {
   "cell_type": "code",
   "execution_count": 40,
   "metadata": {
    "colab": {
     "base_uri": "https://localhost:8080/"
    },
    "id": "lJhzkVCnhRr8",
    "outputId": "7a5d346f-fa6c-4520-fe06-6db584a27c15"
   },
   "outputs": [
    {
     "data": {
      "text/plain": [
       "array([-15.7065, 136.7385, 326.4   ,   1.3   ,   1.1   , 424.    ,\n",
       "        70.    , 302.4   ,  25.8   ,   0.    ])"
      ]
     },
     "execution_count": 40,
     "metadata": {},
     "output_type": "execute_result"
    }
   ],
   "source": [
    "fire_num.median().values #Check that this is the same as manually computing the median of each attribute\n"
   ]
  },
  {
   "cell_type": "code",
   "execution_count": 41,
   "metadata": {
    "id": "8x0W2Z-0hRr9"
   },
   "outputs": [],
   "source": [
    "X = imputer.transform(fire_num) # transform the data set"
   ]
  },
  {
   "cell_type": "code",
   "execution_count": 42,
   "metadata": {
    "id": "yJbltHl7hRr-"
   },
   "outputs": [],
   "source": [
    "fire_tr = pd.DataFrame(X, columns=fire_num.columns,\n",
    "                          index=fire_num.index) # load the new tranformed data set into the pandas frame fire_tr"
   ]
  },
  {
   "cell_type": "markdown",
   "metadata": {
    "id": "X6xyVgYlhRr_"
   },
   "source": [
    "### Handling Text and Categorical Attributes"
   ]
  },
  {
   "cell_type": "code",
   "execution_count": 43,
   "metadata": {
    "colab": {
     "base_uri": "https://localhost:8080/",
     "height": 359
    },
    "id": "b1F5WdRThRsA",
    "outputId": "c944f9a3-d6ca-47ba-b972-362ae02f7e12"
   },
   "outputs": [
    {
     "data": {
      "text/html": [
       "<div>\n",
       "<style scoped>\n",
       "    .dataframe tbody tr th:only-of-type {\n",
       "        vertical-align: middle;\n",
       "    }\n",
       "\n",
       "    .dataframe tbody tr th {\n",
       "        vertical-align: top;\n",
       "    }\n",
       "\n",
       "    .dataframe thead th {\n",
       "        text-align: right;\n",
       "    }\n",
       "</style>\n",
       "<table border=\"1\" class=\"dataframe\">\n",
       "  <thead>\n",
       "    <tr style=\"text-align: right;\">\n",
       "      <th></th>\n",
       "      <th>daynight</th>\n",
       "      <th>satellite</th>\n",
       "    </tr>\n",
       "  </thead>\n",
       "  <tbody>\n",
       "    <tr>\n",
       "      <th>0</th>\n",
       "      <td>D</td>\n",
       "      <td>Terra</td>\n",
       "    </tr>\n",
       "    <tr>\n",
       "      <th>1</th>\n",
       "      <td>D</td>\n",
       "      <td>Terra</td>\n",
       "    </tr>\n",
       "    <tr>\n",
       "      <th>2</th>\n",
       "      <td>D</td>\n",
       "      <td>Terra</td>\n",
       "    </tr>\n",
       "    <tr>\n",
       "      <th>3</th>\n",
       "      <td>D</td>\n",
       "      <td>Terra</td>\n",
       "    </tr>\n",
       "    <tr>\n",
       "      <th>4</th>\n",
       "      <td>D</td>\n",
       "      <td>Terra</td>\n",
       "    </tr>\n",
       "    <tr>\n",
       "      <th>5</th>\n",
       "      <td>D</td>\n",
       "      <td>Terra</td>\n",
       "    </tr>\n",
       "    <tr>\n",
       "      <th>6</th>\n",
       "      <td>D</td>\n",
       "      <td>Terra</td>\n",
       "    </tr>\n",
       "    <tr>\n",
       "      <th>7</th>\n",
       "      <td>D</td>\n",
       "      <td>Terra</td>\n",
       "    </tr>\n",
       "    <tr>\n",
       "      <th>8</th>\n",
       "      <td>D</td>\n",
       "      <td>Terra</td>\n",
       "    </tr>\n",
       "    <tr>\n",
       "      <th>9</th>\n",
       "      <td>D</td>\n",
       "      <td>Terra</td>\n",
       "    </tr>\n",
       "  </tbody>\n",
       "</table>\n",
       "</div>"
      ],
      "text/plain": [
       "  daynight satellite\n",
       "0        D     Terra\n",
       "1        D     Terra\n",
       "2        D     Terra\n",
       "3        D     Terra\n",
       "4        D     Terra\n",
       "5        D     Terra\n",
       "6        D     Terra\n",
       "7        D     Terra\n",
       "8        D     Terra\n",
       "9        D     Terra"
      ]
     },
     "execution_count": 43,
     "metadata": {},
     "output_type": "execute_result"
    }
   ],
   "source": [
    "fire_cat = fire[[\"daynight\", \"satellite\"]]\n",
    "fire_cat.head(10)  # look at the values for the first 10 instances "
   ]
  },
  {
   "cell_type": "code",
   "execution_count": 44,
   "metadata": {
    "colab": {
     "base_uri": "https://localhost:8080/",
     "height": 359
    },
    "id": "EECQACwDhRsA",
    "outputId": "f47dda29-6672-4a85-fc3d-beca71b9d0d8"
   },
   "outputs": [
    {
     "data": {
      "text/html": [
       "<div>\n",
       "<style scoped>\n",
       "    .dataframe tbody tr th:only-of-type {\n",
       "        vertical-align: middle;\n",
       "    }\n",
       "\n",
       "    .dataframe tbody tr th {\n",
       "        vertical-align: top;\n",
       "    }\n",
       "\n",
       "    .dataframe thead th {\n",
       "        text-align: right;\n",
       "    }\n",
       "</style>\n",
       "<table border=\"1\" class=\"dataframe\">\n",
       "  <thead>\n",
       "    <tr style=\"text-align: right;\">\n",
       "      <th></th>\n",
       "      <th>daynight</th>\n",
       "      <th>satellite</th>\n",
       "    </tr>\n",
       "  </thead>\n",
       "  <tbody>\n",
       "    <tr>\n",
       "      <th>36001</th>\n",
       "      <td>N</td>\n",
       "      <td>Aqua</td>\n",
       "    </tr>\n",
       "    <tr>\n",
       "      <th>36002</th>\n",
       "      <td>N</td>\n",
       "      <td>Aqua</td>\n",
       "    </tr>\n",
       "    <tr>\n",
       "      <th>36003</th>\n",
       "      <td>N</td>\n",
       "      <td>Aqua</td>\n",
       "    </tr>\n",
       "    <tr>\n",
       "      <th>36004</th>\n",
       "      <td>N</td>\n",
       "      <td>Aqua</td>\n",
       "    </tr>\n",
       "    <tr>\n",
       "      <th>36005</th>\n",
       "      <td>N</td>\n",
       "      <td>Aqua</td>\n",
       "    </tr>\n",
       "    <tr>\n",
       "      <th>36006</th>\n",
       "      <td>N</td>\n",
       "      <td>Aqua</td>\n",
       "    </tr>\n",
       "    <tr>\n",
       "      <th>36007</th>\n",
       "      <td>N</td>\n",
       "      <td>Aqua</td>\n",
       "    </tr>\n",
       "    <tr>\n",
       "      <th>36008</th>\n",
       "      <td>N</td>\n",
       "      <td>Aqua</td>\n",
       "    </tr>\n",
       "    <tr>\n",
       "      <th>36009</th>\n",
       "      <td>N</td>\n",
       "      <td>Aqua</td>\n",
       "    </tr>\n",
       "    <tr>\n",
       "      <th>36010</th>\n",
       "      <td>N</td>\n",
       "      <td>Aqua</td>\n",
       "    </tr>\n",
       "  </tbody>\n",
       "</table>\n",
       "</div>"
      ],
      "text/plain": [
       "      daynight satellite\n",
       "36001        N      Aqua\n",
       "36002        N      Aqua\n",
       "36003        N      Aqua\n",
       "36004        N      Aqua\n",
       "36005        N      Aqua\n",
       "36006        N      Aqua\n",
       "36007        N      Aqua\n",
       "36008        N      Aqua\n",
       "36009        N      Aqua\n",
       "36010        N      Aqua"
      ]
     },
     "execution_count": 44,
     "metadata": {},
     "output_type": "execute_result"
    }
   ],
   "source": [
    "fire_cat.tail(10)\n",
    "# look at the values for the last 10 instances"
   ]
  },
  {
   "cell_type": "code",
   "execution_count": 45,
   "metadata": {
    "colab": {
     "base_uri": "https://localhost:8080/"
    },
    "id": "Y3HrUaaNhRsB",
    "outputId": "6fb20fa6-4f4a-4710-90d1-f199dde5838a"
   },
   "outputs": [
    {
     "data": {
      "text/plain": [
       "array([[0., 1.],\n",
       "       [0., 1.],\n",
       "       [0., 1.],\n",
       "       [0., 1.],\n",
       "       [0., 1.],\n",
       "       [0., 1.],\n",
       "       [0., 1.],\n",
       "       [0., 1.],\n",
       "       [0., 1.],\n",
       "       [0., 1.]])"
      ]
     },
     "execution_count": 45,
     "metadata": {},
     "output_type": "execute_result"
    }
   ],
   "source": [
    "from sklearn.preprocessing import OrdinalEncoder\n",
    "# sklearn OrdinalEncoder class is used to convert categorical values to numbers\n",
    "ordinal_encoder = OrdinalEncoder() \n",
    "fire_cat_encoded = ordinal_encoder.fit_transform(fire_cat)\n",
    "fire_cat_encoded[:10] # Lists the numerical values that correspond to the categorical attribute\n",
    "# Q15 Why can representing a catogorical variable with numbers be a problem in ML?\n",
    "# A15: There may be a possibility that nearby values are more similar than distant values.However as far as this\n",
    "# dataset is considered the categorical values have only binary classification. "
   ]
  },
  {
   "cell_type": "code",
   "execution_count": 46,
   "metadata": {
    "colab": {
     "base_uri": "https://localhost:8080/"
    },
    "id": "xtawqcnxhRsB",
    "outputId": "3fe6f28c-2c36-4e12-fcd2-021183bb5386"
   },
   "outputs": [
    {
     "data": {
      "text/plain": [
       "[array(['D', 'N'], dtype=object), array(['Aqua', 'Terra'], dtype=object)]"
      ]
     },
     "execution_count": 46,
     "metadata": {},
     "output_type": "execute_result"
    }
   ],
   "source": [
    "# 1 D array of categories for the attribute 'ocean-proximity'\n",
    "ordinal_encoder.categories_ # prints the categories for all categorical attributes , here we only have one categorical attribute\n"
   ]
  },
  {
   "cell_type": "code",
   "execution_count": 47,
   "metadata": {
    "colab": {
     "base_uri": "https://localhost:8080/"
    },
    "id": "D4wnlCPPhRsB",
    "outputId": "b217a828-8154-444e-f88e-8887053f9cf1"
   },
   "outputs": [
    {
     "data": {
      "text/plain": [
       "<36011x4 sparse matrix of type '<class 'numpy.float64'>'\n",
       "\twith 72022 stored elements in Compressed Sparse Row format>"
      ]
     },
     "execution_count": 47,
     "metadata": {},
     "output_type": "execute_result"
    }
   ],
   "source": [
    "# An alternative way to represent a categorical attribuite is to use 'one-hot-encoding'\n",
    "\n",
    "from sklearn.preprocessing import OneHotEncoder  \n",
    "# OneHotEncoder class converts categorical values into one-hot vectors , this assumes no order so better for categorical variables\n",
    "\n",
    "cat_encoder = OneHotEncoder()\n",
    "fire_cat_1hot = cat_encoder.fit_transform(fire_cat)\n",
    "fire_cat_1hot"
   ]
  },
  {
   "cell_type": "code",
   "execution_count": 48,
   "metadata": {
    "colab": {
     "base_uri": "https://localhost:8080/"
    },
    "id": "Vb4HvpfwhRsC",
    "outputId": "8c8fda04-2019-4345-ba2b-e6d74a360395"
   },
   "outputs": [
    {
     "data": {
      "text/plain": [
       "scipy.sparse.csr.csr_matrix"
      ]
     },
     "execution_count": 48,
     "metadata": {},
     "output_type": "execute_result"
    }
   ],
   "source": [
    "type(fire_cat_1hot) # This is a SciPy sparce matrix ( not a NumPy array)\n",
    "# a sparse matrix only stores the location of the non‐zero enties , therefore saves memory"
   ]
  },
  {
   "cell_type": "code",
   "execution_count": 49,
   "metadata": {
    "colab": {
     "base_uri": "https://localhost:8080/"
    },
    "id": "pTa74wdVhRsC",
    "outputId": "823cd462-6e8b-48d6-fcb5-bb5dd7f4aebf"
   },
   "outputs": [
    {
     "data": {
      "text/plain": [
       "array([[1., 0., 0., 1.],\n",
       "       [1., 0., 0., 1.],\n",
       "       [1., 0., 0., 1.],\n",
       "       ...,\n",
       "       [0., 1., 1., 0.],\n",
       "       [0., 1., 1., 0.],\n",
       "       [0., 1., 1., 0.]])"
      ]
     },
     "execution_count": 49,
     "metadata": {},
     "output_type": "execute_result"
    }
   ],
   "source": [
    "fire_cat_1hot.toarray() # To convert it to a (dense) NumPy array, call toarrray() method"
   ]
  },
  {
   "cell_type": "code",
   "execution_count": 50,
   "metadata": {
    "colab": {
     "base_uri": "https://localhost:8080/"
    },
    "id": "pohHpDVYhRsD",
    "outputId": "d65049f2-9516-4030-e307-55c280237f66"
   },
   "outputs": [
    {
     "data": {
      "text/plain": [
       "array([[1., 0., 0., 1.],\n",
       "       [1., 0., 0., 1.],\n",
       "       [1., 0., 0., 1.],\n",
       "       ...,\n",
       "       [0., 1., 1., 0.],\n",
       "       [0., 1., 1., 0.],\n",
       "       [0., 1., 1., 0.]])"
      ]
     },
     "execution_count": 50,
     "metadata": {},
     "output_type": "execute_result"
    }
   ],
   "source": [
    "cat_encoder = OneHotEncoder(sparse=False) # Alternatively, you can set sparse=False when creating the OneHotEncoder\n",
    "fire_cat_1hot = cat_encoder.fit_transform(fire_cat)\n",
    "fire_cat_1hot"
   ]
  },
  {
   "cell_type": "code",
   "execution_count": 51,
   "metadata": {
    "colab": {
     "base_uri": "https://localhost:8080/"
    },
    "id": "alCjsVt0hRsD",
    "outputId": "6764030b-e81d-43dd-de80-3eae1966d7dc"
   },
   "outputs": [
    {
     "data": {
      "text/plain": [
       "[array(['D', 'N'], dtype=object), array(['Aqua', 'Terra'], dtype=object)]"
      ]
     },
     "execution_count": 51,
     "metadata": {},
     "output_type": "execute_result"
    }
   ],
   "source": [
    "cat_encoder.categories_         # Get a list of categories"
   ]
  },
  {
   "cell_type": "code",
   "execution_count": null,
   "metadata": {
    "id": "1kpf91WUuPUK"
   },
   "outputs": [],
   "source": []
  },
  {
   "cell_type": "markdown",
   "metadata": {
    "id": "ABf7NG4xtEKS"
   },
   "source": [
    "### Feature Scaling (optional)\n",
    "\n",
    "\n"
   ]
  },
  {
   "cell_type": "markdown",
   "metadata": {
    "id": "PQwkH7i_ts13"
   },
   "source": [
    "In week 2 lectures you have learned about two common ways to get all attributes to have the same scale: min-max scaling and standardization (Zscore).\n",
    "\n",
    "Sklearn provides two transformer functions for this "
   ]
  },
  {
   "cell_type": "code",
   "execution_count": 52,
   "metadata": {
    "id": "FVur3HpBuRje"
   },
   "outputs": [],
   "source": [
    "#Q16 Research sklearn documentation for the functions MinMaxScaler() and StandardScaler() and try to experiment with it on the housing data set\n",
    "#A16: Normalisation or Standardisation need to be done on the dataset inorder to scale the values. For eg, \n",
    "#     brightness attribute has a min and max values of 300.000000 and 504.4 while frp attribute has a min and max \n",
    "#     values of 0 and 3679.5. To avoid the numerical values frm having such different scales, we perform\n",
    "#     normalisation or standarisation"
   ]
  },
  {
   "cell_type": "code",
   "execution_count": 53,
   "metadata": {},
   "outputs": [
    {
     "name": "stdout",
     "output_type": "stream",
     "text": [
      "MinMaxScaler()\n",
      "[-1.007260e+01  1.534904e+02  5.044000e+02  4.800000e+00  2.000000e+00\n",
      "  2.359000e+03  1.000000e+02  6.300000e+00  4.001000e+02  3.679500e+03\n",
      "  3.000000e+00]\n"
     ]
    }
   ],
   "source": [
    "#Normalisation using MinMaxScaler()\n",
    "from sklearn.preprocessing import MinMaxScaler\n",
    "\n",
    "temp_fire = fire.drop([\"acq_date\",\"daynight\", \"satellite\", \"instrument\"] , axis=1)\n",
    "#temp_fire.head()\n",
    "minmax_scaler = MinMaxScaler() #Initialising the MinMaxScaler as a class\n",
    "print(minmax_scaler.fit(temp_fire)) #Fitting the data \n",
    "print(minmax_scaler.data_max_) #Max value of each attribute"
   ]
  },
  {
   "cell_type": "code",
   "execution_count": 54,
   "metadata": {},
   "outputs": [
    {
     "name": "stdout",
     "output_type": "stream",
     "text": [
      "[[0.94694434 0.70974278 0.06360078 ... 0.22764838 0.00179372 0.        ]\n",
      " [0.94739096 0.71042068 0.0944227  ... 0.22764838 0.00307107 0.        ]\n",
      " [0.91535078 0.47656661 0.05675147 ... 0.23816679 0.00627803 0.        ]\n",
      " ...\n",
      " [0.44260053 0.36581434 0.00831703 ... 0.17580766 0.00149477 0.        ]\n",
      " [0.44241699 0.36684769 0.01761252 ... 0.17505635 0.00154912 0.        ]\n",
      " [0.3639837  0.18776167 0.04452055 ... 0.17956424 0.00625085 0.66666667]]\n"
     ]
    }
   ],
   "source": [
    "#print(minmax_scaler.transform(temp_fire)) #Transform features by scaling each feature to a given range(0,1)\n",
    "fire_norm = minmax_scaler.transform(temp_fire) #Normalised data of 11 numerical attributes\n",
    "print(fire_norm)"
   ]
  },
  {
   "cell_type": "code",
   "execution_count": 55,
   "metadata": {},
   "outputs": [
    {
     "name": "stdout",
     "output_type": "stream",
     "text": [
      "StandardScaler()\n"
     ]
    }
   ],
   "source": [
    "# Standarization using StandardScaler()\n",
    "from sklearn.preprocessing import StandardScaler\n",
    "standard_scaler = StandardScaler() #Initialising the StandardScaler as a class\n",
    "print(standard_scaler.fit(temp_fire)) #Fitting the data"
   ]
  },
  {
   "cell_type": "code",
   "execution_count": 56,
   "metadata": {},
   "outputs": [
    {
     "name": "stdout",
     "output_type": "stream",
     "text": [
      "[-1.91009616e+01  1.38931446e+02  3.28750696e+02  1.62090472e+00\n",
      "  1.21528144e+00  6.00025798e+02  6.75513871e+01  6.30000000e+00\n",
      "  3.01339138e+02  5.11321763e+01  1.94385049e-02]\n"
     ]
    }
   ],
   "source": [
    "print(standard_scaler.mean_) #Mean value of each attribute"
   ]
  },
  {
   "cell_type": "code",
   "execution_count": 57,
   "metadata": {},
   "outputs": [
    {
     "name": "stdout",
     "output_type": "stream",
     "text": [
      "[[ 1.00389302  0.33762684 -0.82930942 ... -0.41536427 -0.4825828\n",
      "  -0.0980141 ]\n",
      " [ 1.00590247  0.34050981 -0.4976003  ... -0.41536427 -0.43165021\n",
      "  -0.0980141 ]\n",
      " [ 0.86174521 -0.65401884 -0.90302256 ... -0.27139544 -0.30377689\n",
      "  -0.0980141 ]\n",
      " ...\n",
      " [-1.26528325 -1.12502328 -1.42427974 ... -1.12492494 -0.49450319\n",
      "  -0.0980141 ]\n",
      " [-1.26610905 -1.12062864 -1.32424049 ... -1.13520843 -0.49233585\n",
      "  -0.0980141 ]\n",
      " [-1.61900119 -1.88224111 -1.03465316 ... -1.0735075  -0.30486056\n",
      "   9.98651662]]\n"
     ]
    }
   ],
   "source": [
    "fire_standard = standard_scaler.transform(temp_fire) #Standardize features by removing the mean and scaling to unit variance\n",
    "print(fire_standard)"
   ]
  },
  {
   "cell_type": "markdown",
   "metadata": {},
   "source": [
    "In order to best eliminate outliers in the data set, we are going to use the standardised dataset for further processing"
   ]
  },
  {
   "cell_type": "markdown",
   "metadata": {},
   "source": [
    "End of LAB2"
   ]
  },
  {
   "cell_type": "markdown",
   "metadata": {},
   "source": [
    "## LAB 3 "
   ]
  },
  {
   "cell_type": "code",
   "execution_count": 58,
   "metadata": {},
   "outputs": [
    {
     "data": {
      "text/html": [
       "<div>\n",
       "<style scoped>\n",
       "    .dataframe tbody tr th:only-of-type {\n",
       "        vertical-align: middle;\n",
       "    }\n",
       "\n",
       "    .dataframe tbody tr th {\n",
       "        vertical-align: top;\n",
       "    }\n",
       "\n",
       "    .dataframe thead th {\n",
       "        text-align: right;\n",
       "    }\n",
       "</style>\n",
       "<table border=\"1\" class=\"dataframe\">\n",
       "  <thead>\n",
       "    <tr style=\"text-align: right;\">\n",
       "      <th></th>\n",
       "      <th>latitude</th>\n",
       "      <th>longitude</th>\n",
       "      <th>brightness</th>\n",
       "      <th>scan</th>\n",
       "      <th>track</th>\n",
       "      <th>acq_date</th>\n",
       "      <th>acq_time</th>\n",
       "      <th>satellite</th>\n",
       "      <th>instrument</th>\n",
       "      <th>confidence</th>\n",
       "      <th>version</th>\n",
       "      <th>bright_t31</th>\n",
       "      <th>frp</th>\n",
       "      <th>daynight</th>\n",
       "      <th>type</th>\n",
       "    </tr>\n",
       "  </thead>\n",
       "  <tbody>\n",
       "    <tr>\n",
       "      <th>0</th>\n",
       "      <td>-11.8070</td>\n",
       "      <td>142.0583</td>\n",
       "      <td>313.0</td>\n",
       "      <td>1.0</td>\n",
       "      <td>1.0</td>\n",
       "      <td>2019-08-01</td>\n",
       "      <td>56</td>\n",
       "      <td>Terra</td>\n",
       "      <td>MODIS</td>\n",
       "      <td>48</td>\n",
       "      <td>6.3</td>\n",
       "      <td>297.3</td>\n",
       "      <td>6.6</td>\n",
       "      <td>D</td>\n",
       "      <td>0</td>\n",
       "    </tr>\n",
       "    <tr>\n",
       "      <th>1</th>\n",
       "      <td>-11.7924</td>\n",
       "      <td>142.0850</td>\n",
       "      <td>319.3</td>\n",
       "      <td>1.0</td>\n",
       "      <td>1.0</td>\n",
       "      <td>2019-08-01</td>\n",
       "      <td>56</td>\n",
       "      <td>Terra</td>\n",
       "      <td>MODIS</td>\n",
       "      <td>71</td>\n",
       "      <td>6.3</td>\n",
       "      <td>297.3</td>\n",
       "      <td>11.3</td>\n",
       "      <td>D</td>\n",
       "      <td>0</td>\n",
       "    </tr>\n",
       "    <tr>\n",
       "      <th>2</th>\n",
       "      <td>-12.8398</td>\n",
       "      <td>132.8744</td>\n",
       "      <td>311.6</td>\n",
       "      <td>3.1</td>\n",
       "      <td>1.7</td>\n",
       "      <td>2019-08-01</td>\n",
       "      <td>57</td>\n",
       "      <td>Terra</td>\n",
       "      <td>MODIS</td>\n",
       "      <td>42</td>\n",
       "      <td>6.3</td>\n",
       "      <td>298.7</td>\n",
       "      <td>23.1</td>\n",
       "      <td>D</td>\n",
       "      <td>0</td>\n",
       "    </tr>\n",
       "    <tr>\n",
       "      <th>3</th>\n",
       "      <td>-14.4306</td>\n",
       "      <td>143.3035</td>\n",
       "      <td>310.1</td>\n",
       "      <td>1.1</td>\n",
       "      <td>1.1</td>\n",
       "      <td>2019-08-01</td>\n",
       "      <td>57</td>\n",
       "      <td>Terra</td>\n",
       "      <td>MODIS</td>\n",
       "      <td>33</td>\n",
       "      <td>6.3</td>\n",
       "      <td>296.1</td>\n",
       "      <td>6.5</td>\n",
       "      <td>D</td>\n",
       "      <td>0</td>\n",
       "    </tr>\n",
       "    <tr>\n",
       "      <th>4</th>\n",
       "      <td>-12.4953</td>\n",
       "      <td>131.4897</td>\n",
       "      <td>310.3</td>\n",
       "      <td>4.0</td>\n",
       "      <td>1.9</td>\n",
       "      <td>2019-08-01</td>\n",
       "      <td>57</td>\n",
       "      <td>Terra</td>\n",
       "      <td>MODIS</td>\n",
       "      <td>36</td>\n",
       "      <td>6.3</td>\n",
       "      <td>298.8</td>\n",
       "      <td>27.6</td>\n",
       "      <td>D</td>\n",
       "      <td>0</td>\n",
       "    </tr>\n",
       "  </tbody>\n",
       "</table>\n",
       "</div>"
      ],
      "text/plain": [
       "   latitude  longitude  brightness  scan  track    acq_date  acq_time  \\\n",
       "0  -11.8070   142.0583       313.0   1.0    1.0  2019-08-01        56   \n",
       "1  -11.7924   142.0850       319.3   1.0    1.0  2019-08-01        56   \n",
       "2  -12.8398   132.8744       311.6   3.1    1.7  2019-08-01        57   \n",
       "3  -14.4306   143.3035       310.1   1.1    1.1  2019-08-01        57   \n",
       "4  -12.4953   131.4897       310.3   4.0    1.9  2019-08-01        57   \n",
       "\n",
       "  satellite instrument  confidence  version  bright_t31   frp daynight  type  \n",
       "0     Terra      MODIS          48      6.3       297.3   6.6        D     0  \n",
       "1     Terra      MODIS          71      6.3       297.3  11.3        D     0  \n",
       "2     Terra      MODIS          42      6.3       298.7  23.1        D     0  \n",
       "3     Terra      MODIS          33      6.3       296.1   6.5        D     0  \n",
       "4     Terra      MODIS          36      6.3       298.8  27.6        D     0  "
      ]
     },
     "execution_count": 58,
     "metadata": {},
     "output_type": "execute_result"
    }
   ],
   "source": [
    "fire.head()"
   ]
  },
  {
   "cell_type": "code",
   "execution_count": 59,
   "metadata": {},
   "outputs": [
    {
     "data": {
      "text/plain": [
       "MODIS    36011\n",
       "Name: instrument, dtype: int64"
      ]
     },
     "execution_count": 59,
     "metadata": {},
     "output_type": "execute_result"
    }
   ],
   "source": [
    "fire['instrument'].value_counts()"
   ]
  },
  {
   "cell_type": "code",
   "execution_count": 60,
   "metadata": {},
   "outputs": [
    {
     "data": {
      "text/plain": [
       "6.3    36011\n",
       "Name: version, dtype: int64"
      ]
     },
     "execution_count": 60,
     "metadata": {},
     "output_type": "execute_result"
    }
   ],
   "source": [
    "fire['version'].value_counts()"
   ]
  },
  {
   "cell_type": "markdown",
   "metadata": {},
   "source": [
    "From the above output, it is very evident that the attributes instrument and version have the same values for all the instances. So we are dropping these "
   ]
  },
  {
   "cell_type": "code",
   "execution_count": 61,
   "metadata": {},
   "outputs": [],
   "source": [
    "fire = fire.drop(['instrument','version'], axis = 1)"
   ]
  },
  {
   "cell_type": "code",
   "execution_count": 62,
   "metadata": {},
   "outputs": [
    {
     "data": {
      "text/html": [
       "<div>\n",
       "<style scoped>\n",
       "    .dataframe tbody tr th:only-of-type {\n",
       "        vertical-align: middle;\n",
       "    }\n",
       "\n",
       "    .dataframe tbody tr th {\n",
       "        vertical-align: top;\n",
       "    }\n",
       "\n",
       "    .dataframe thead th {\n",
       "        text-align: right;\n",
       "    }\n",
       "</style>\n",
       "<table border=\"1\" class=\"dataframe\">\n",
       "  <thead>\n",
       "    <tr style=\"text-align: right;\">\n",
       "      <th></th>\n",
       "      <th>latitude</th>\n",
       "      <th>longitude</th>\n",
       "      <th>brightness</th>\n",
       "      <th>scan</th>\n",
       "      <th>track</th>\n",
       "      <th>acq_date</th>\n",
       "      <th>acq_time</th>\n",
       "      <th>satellite</th>\n",
       "      <th>confidence</th>\n",
       "      <th>bright_t31</th>\n",
       "      <th>frp</th>\n",
       "      <th>daynight</th>\n",
       "      <th>type</th>\n",
       "    </tr>\n",
       "  </thead>\n",
       "  <tbody>\n",
       "    <tr>\n",
       "      <th>0</th>\n",
       "      <td>-11.8070</td>\n",
       "      <td>142.0583</td>\n",
       "      <td>313.0</td>\n",
       "      <td>1.0</td>\n",
       "      <td>1.0</td>\n",
       "      <td>2019-08-01</td>\n",
       "      <td>56</td>\n",
       "      <td>Terra</td>\n",
       "      <td>48</td>\n",
       "      <td>297.3</td>\n",
       "      <td>6.6</td>\n",
       "      <td>D</td>\n",
       "      <td>0</td>\n",
       "    </tr>\n",
       "    <tr>\n",
       "      <th>1</th>\n",
       "      <td>-11.7924</td>\n",
       "      <td>142.0850</td>\n",
       "      <td>319.3</td>\n",
       "      <td>1.0</td>\n",
       "      <td>1.0</td>\n",
       "      <td>2019-08-01</td>\n",
       "      <td>56</td>\n",
       "      <td>Terra</td>\n",
       "      <td>71</td>\n",
       "      <td>297.3</td>\n",
       "      <td>11.3</td>\n",
       "      <td>D</td>\n",
       "      <td>0</td>\n",
       "    </tr>\n",
       "    <tr>\n",
       "      <th>2</th>\n",
       "      <td>-12.8398</td>\n",
       "      <td>132.8744</td>\n",
       "      <td>311.6</td>\n",
       "      <td>3.1</td>\n",
       "      <td>1.7</td>\n",
       "      <td>2019-08-01</td>\n",
       "      <td>57</td>\n",
       "      <td>Terra</td>\n",
       "      <td>42</td>\n",
       "      <td>298.7</td>\n",
       "      <td>23.1</td>\n",
       "      <td>D</td>\n",
       "      <td>0</td>\n",
       "    </tr>\n",
       "    <tr>\n",
       "      <th>3</th>\n",
       "      <td>-14.4306</td>\n",
       "      <td>143.3035</td>\n",
       "      <td>310.1</td>\n",
       "      <td>1.1</td>\n",
       "      <td>1.1</td>\n",
       "      <td>2019-08-01</td>\n",
       "      <td>57</td>\n",
       "      <td>Terra</td>\n",
       "      <td>33</td>\n",
       "      <td>296.1</td>\n",
       "      <td>6.5</td>\n",
       "      <td>D</td>\n",
       "      <td>0</td>\n",
       "    </tr>\n",
       "    <tr>\n",
       "      <th>4</th>\n",
       "      <td>-12.4953</td>\n",
       "      <td>131.4897</td>\n",
       "      <td>310.3</td>\n",
       "      <td>4.0</td>\n",
       "      <td>1.9</td>\n",
       "      <td>2019-08-01</td>\n",
       "      <td>57</td>\n",
       "      <td>Terra</td>\n",
       "      <td>36</td>\n",
       "      <td>298.8</td>\n",
       "      <td>27.6</td>\n",
       "      <td>D</td>\n",
       "      <td>0</td>\n",
       "    </tr>\n",
       "  </tbody>\n",
       "</table>\n",
       "</div>"
      ],
      "text/plain": [
       "   latitude  longitude  brightness  scan  track    acq_date  acq_time  \\\n",
       "0  -11.8070   142.0583       313.0   1.0    1.0  2019-08-01        56   \n",
       "1  -11.7924   142.0850       319.3   1.0    1.0  2019-08-01        56   \n",
       "2  -12.8398   132.8744       311.6   3.1    1.7  2019-08-01        57   \n",
       "3  -14.4306   143.3035       310.1   1.1    1.1  2019-08-01        57   \n",
       "4  -12.4953   131.4897       310.3   4.0    1.9  2019-08-01        57   \n",
       "\n",
       "  satellite  confidence  bright_t31   frp daynight  type  \n",
       "0     Terra          48       297.3   6.6        D     0  \n",
       "1     Terra          71       297.3  11.3        D     0  \n",
       "2     Terra          42       298.7  23.1        D     0  \n",
       "3     Terra          33       296.1   6.5        D     0  \n",
       "4     Terra          36       298.8  27.6        D     0  "
      ]
     },
     "execution_count": 62,
     "metadata": {},
     "output_type": "execute_result"
    }
   ],
   "source": [
    "fire.head()"
   ]
  },
  {
   "cell_type": "code",
   "execution_count": 63,
   "metadata": {},
   "outputs": [],
   "source": [
    "fire = fire.drop(['acq_date'], axis=1) #Temporarily dropping acq_date due as it is in String"
   ]
  },
  {
   "cell_type": "markdown",
   "metadata": {},
   "source": [
    "Changing categorical data to numerical"
   ]
  },
  {
   "cell_type": "code",
   "execution_count": 64,
   "metadata": {},
   "outputs": [],
   "source": [
    "daynight_map = {\"D\": 1, \"N\": 0}\n",
    "satellite_map = {\"Terra\": 1, \"Aqua\": 0}\n",
    "\n",
    "fire['daynight'] = fire['daynight'].map(daynight_map)\n",
    "fire['satellite'] = fire['satellite'].map(satellite_map)"
   ]
  },
  {
   "cell_type": "markdown",
   "metadata": {},
   "source": [
    "### Correlation\n",
    "We are finding the correlation of the attributes with respect to the class attribute."
   ]
  },
  {
   "cell_type": "code",
   "execution_count": 65,
   "metadata": {},
   "outputs": [
    {
     "data": {
      "text/plain": [
       "confidence    1.000000\n",
       "brightness    0.614691\n",
       "frp           0.355388\n",
       "bright_t31    0.238506\n",
       "daynight      0.066457\n",
       "latitude      0.020656\n",
       "satellite    -0.031723\n",
       "longitude    -0.035529\n",
       "type         -0.041632\n",
       "acq_time     -0.070012\n",
       "scan         -0.103808\n",
       "track        -0.105949\n",
       "Name: confidence, dtype: float64"
      ]
     },
     "execution_count": 65,
     "metadata": {},
     "output_type": "execute_result"
    }
   ],
   "source": [
    "corr_matrix = fire.corr()\n",
    "corr_matrix[\"confidence\"].sort_values(ascending=False)"
   ]
  },
  {
   "cell_type": "markdown",
   "metadata": {},
   "source": [
    "### Univariate Selection\n",
    "We are finding the best features using Univariate Selection\n",
    "Ref: https://towardsdatascience.com/feature-selection-techniques-in-machine-learning-with-python-f24e7da3f36e"
   ]
  },
  {
   "cell_type": "markdown",
   "metadata": {},
   "source": [
    "Due to using chi square method in Univariate Selection, it does not take negative values(Like Latitide and Longitude). For the purpose of demonstrating the Univariate Selection Method, we are dropping the latitude and longitude attrbutes\n",
    "Ref: https://stackoverflow.com/questions/25792012/feature-selection-using-scikit-learn"
   ]
  },
  {
   "cell_type": "code",
   "execution_count": 66,
   "metadata": {},
   "outputs": [],
   "source": [
    "from sklearn.feature_selection import SelectKBest\n",
    "from sklearn.feature_selection import chi2\n",
    "\n",
    "uni_fire_attributes = fire.drop(['confidence','latitude','longitude'], axis=1)\n",
    "uni_fire_class = fire[\"confidence\"]"
   ]
  },
  {
   "cell_type": "code",
   "execution_count": 67,
   "metadata": {},
   "outputs": [
    {
     "name": "stdout",
     "output_type": "stream",
     "text": [
      "        Specs         Score\n",
      "6         frp  1.539160e+06\n",
      "3    acq_time  9.740641e+05\n",
      "0  brightness  2.088148e+04\n",
      "5  bright_t31  7.552044e+02\n",
      "7    daynight  6.482230e+02\n",
      "8        type  5.583034e+02\n",
      "1        scan  2.400399e+02\n",
      "4   satellite  1.142584e+02\n",
      "2       track  3.095680e+01\n"
     ]
    }
   ],
   "source": [
    "#apply SelectKBest class to extract top 10 best features\n",
    "bestfeatures = SelectKBest(score_func=chi2, k=5)\n",
    "fit = bestfeatures.fit(uni_fire_attributes,uni_fire_class)\n",
    "dfscores = pd.DataFrame(fit.scores_)\n",
    "dfcolumns = pd.DataFrame(uni_fire_attributes.columns)\n",
    "#concat two dataframes for better visualization \n",
    "featureScores = pd.concat([dfcolumns,dfscores],axis=1)\n",
    "featureScores.columns = ['Specs','Score']  #naming the dataframe columns\n",
    "print(featureScores.nlargest(10,'Score'))  #print 10 best features"
   ]
  },
  {
   "cell_type": "markdown",
   "metadata": {},
   "source": [
    "### Feature Importance\n",
    "We are finding the best features using Feature Importance\n",
    "Ref: https://towardsdatascience.com/feature-selection-techniques-in-machine-learning-with-python-f24e7da3f36e"
   ]
  },
  {
   "cell_type": "code",
   "execution_count": 68,
   "metadata": {},
   "outputs": [
    {
     "name": "stdout",
     "output_type": "stream",
     "text": [
      "[0.13989888 0.13842132 0.21572864 0.05911206 0.02992384 0.08952373\n",
      " 0.00668369 0.13925539 0.17466274 0.00476994 0.00201977]\n"
     ]
    },
    {
     "data": {
      "image/png": "[encoded data removed]",
      "text/plain": [
       "<Figure size 432x288 with 1 Axes>"
      ]
     },
     "metadata": {
      "needs_background": "light"
     },
     "output_type": "display_data"
    }
   ],
   "source": [
    "from sklearn.ensemble import ExtraTreesClassifier\n",
    "featimp_fire_attributes = fire.drop(['confidence'], axis=1)\n",
    "featimp_fire_class = fire[\"confidence\"]\n",
    "model = ExtraTreesClassifier()\n",
    "model.fit(featimp_fire_attributes,featimp_fire_class)\n",
    "print(model.feature_importances_) #use inbuilt class feature_importances of tree based classifiers\n",
    "#plot graph of feature importances for better visualization\n",
    "feat_importances = pd.Series(model.feature_importances_, index=featimp_fire_attributes.columns)\n",
    "feat_importances.nlargest(10).plot(kind='barh')\n",
    "plt.show()"
   ]
  },
  {
   "cell_type": "markdown",
   "metadata": {},
   "source": [
    "### Correlation Matrix with Heatmap\n",
    "We are finding the best features using Correlation Matrix with Heatmap\n",
    "Ref: https://towardsdatascience.com/feature-selection-techniques-in-machine-learning-with-python-f24e7da3f36e"
   ]
  },
  {
   "cell_type": "code",
   "execution_count": 69,
   "metadata": {},
   "outputs": [
    {
     "name": "stdout",
     "output_type": "stream",
     "text": [
      "Requirement already satisfied: seaborn in /Users/nass/opt/anaconda3/lib/python3.9/site-packages (0.11.2)\n",
      "Requirement already satisfied: matplotlib>=2.2 in /Users/nass/opt/anaconda3/lib/python3.9/site-packages (from seaborn) (3.5.1)\n",
      "Requirement already satisfied: numpy>=1.15 in /Users/nass/opt/anaconda3/lib/python3.9/site-packages (from seaborn) (1.21.5)\n",
      "Requirement already satisfied: scipy>=1.0 in /Users/nass/opt/anaconda3/lib/python3.9/site-packages (from seaborn) (1.7.3)\n",
      "Requirement already satisfied: pandas>=0.23 in /Users/nass/opt/anaconda3/lib/python3.9/site-packages (from seaborn) (1.4.2)\n",
      "Requirement already satisfied: packaging>=20.0 in /Users/nass/opt/anaconda3/lib/python3.9/site-packages (from matplotlib>=2.2->seaborn) (21.3)\n",
      "Requirement already satisfied: pillow>=6.2.0 in /Users/nass/opt/anaconda3/lib/python3.9/site-packages (from matplotlib>=2.2->seaborn) (9.0.1)\n",
      "Requirement already satisfied: pyparsing>=2.2.1 in /Users/nass/opt/anaconda3/lib/python3.9/site-packages (from matplotlib>=2.2->seaborn) (3.0.4)\n",
      "Requirement already satisfied: kiwisolver>=1.0.1 in /Users/nass/opt/anaconda3/lib/python3.9/site-packages (from matplotlib>=2.2->seaborn) (1.4.2)\n",
      "Requirement already satisfied: cycler>=0.10 in /Users/nass/opt/anaconda3/lib/python3.9/site-packages (from matplotlib>=2.2->seaborn) (0.11.0)\n",
      "Requirement already satisfied: python-dateutil>=2.7 in /Users/nass/opt/anaconda3/lib/python3.9/site-packages (from matplotlib>=2.2->seaborn) (2.8.2)\n",
      "Requirement already satisfied: fonttools>=4.22.0 in /Users/nass/opt/anaconda3/lib/python3.9/site-packages (from matplotlib>=2.2->seaborn) (4.25.0)\n",
      "Requirement already satisfied: pytz>=2020.1 in /Users/nass/opt/anaconda3/lib/python3.9/site-packages (from pandas>=0.23->seaborn) (2021.3)\n",
      "Requirement already satisfied: six>=1.5 in /Users/nass/opt/anaconda3/lib/python3.9/site-packages (from python-dateutil>=2.7->matplotlib>=2.2->seaborn) (1.16.0)\n"
     ]
    }
   ],
   "source": [
    "!pip install seaborn"
   ]
  },
  {
   "cell_type": "code",
   "execution_count": 70,
   "metadata": {},
   "outputs": [
    {
     "data": {
      "image/png": "[encoded data removed]",
      "text/plain": [
       "<Figure size 1440x1440 with 2 Axes>"
      ]
     },
     "metadata": {
      "needs_background": "light"
     },
     "output_type": "display_data"
    }
   ],
   "source": [
    "import seaborn as sns\n",
    "corr_matrix = fire.corr()\n",
    "\n",
    "top_corr_features = corr_matrix.index\n",
    "plt.figure(figsize=(20,20))\n",
    "#plot heat map\n",
    "g=sns.heatmap(fire[top_corr_features].corr(),annot=True,cmap=\"RdYlGn\")"
   ]
  },
  {
   "cell_type": "markdown",
   "metadata": {},
   "source": [
    "Due to the incompatibility of negative values, the results of Univariate Selection are ignored. As for the other two methods, Feature Importance and Correlation with HeatMap, yield the same results as correlation matrix"
   ]
  },
  {
   "cell_type": "markdown",
   "metadata": {},
   "source": [
    "### Creating 3 Datasets with Correlating Features  "
   ]
  },
  {
   "cell_type": "markdown",
   "metadata": {},
   "source": [
    "We are now using Binning method to classify the target feature into 3 classes. If the confidence value is greater than 70%, we are classifying as HIGH Confidence (numerical value is 2). Confidence values between 40% and 70% are classified as MEDIUM Confidence (numerical value is 1) while values less than 40% are classified as LOW Confidence (numerical value is 0)."
   ]
  },
  {
   "cell_type": "code",
   "execution_count": 137,
   "metadata": {},
   "outputs": [
    {
     "data": {
      "text/html": [
       "<div>\n",
       "<style scoped>\n",
       "    .dataframe tbody tr th:only-of-type {\n",
       "        vertical-align: middle;\n",
       "    }\n",
       "\n",
       "    .dataframe tbody tr th {\n",
       "        vertical-align: top;\n",
       "    }\n",
       "\n",
       "    .dataframe thead th {\n",
       "        text-align: right;\n",
       "    }\n",
       "</style>\n",
       "<table border=\"1\" class=\"dataframe\">\n",
       "  <thead>\n",
       "    <tr style=\"text-align: right;\">\n",
       "      <th></th>\n",
       "      <th>latitude</th>\n",
       "      <th>longitude</th>\n",
       "      <th>brightness</th>\n",
       "      <th>scan</th>\n",
       "      <th>track</th>\n",
       "      <th>acq_time</th>\n",
       "      <th>satellite</th>\n",
       "      <th>confidence</th>\n",
       "      <th>bright_t31</th>\n",
       "      <th>frp</th>\n",
       "      <th>daynight</th>\n",
       "      <th>type</th>\n",
       "      <th>conf_cat</th>\n",
       "    </tr>\n",
       "  </thead>\n",
       "  <tbody>\n",
       "    <tr>\n",
       "      <th>1</th>\n",
       "      <td>-11.7924</td>\n",
       "      <td>142.0850</td>\n",
       "      <td>319.3</td>\n",
       "      <td>1.0</td>\n",
       "      <td>1.0</td>\n",
       "      <td>56</td>\n",
       "      <td>1</td>\n",
       "      <td>71</td>\n",
       "      <td>297.3</td>\n",
       "      <td>11.3</td>\n",
       "      <td>1</td>\n",
       "      <td>0</td>\n",
       "      <td>2</td>\n",
       "    </tr>\n",
       "    <tr>\n",
       "      <th>7</th>\n",
       "      <td>-14.3195</td>\n",
       "      <td>143.5198</td>\n",
       "      <td>322.9</td>\n",
       "      <td>1.2</td>\n",
       "      <td>1.1</td>\n",
       "      <td>57</td>\n",
       "      <td>1</td>\n",
       "      <td>79</td>\n",
       "      <td>290.9</td>\n",
       "      <td>20.4</td>\n",
       "      <td>1</td>\n",
       "      <td>0</td>\n",
       "      <td>2</td>\n",
       "    </tr>\n",
       "    <tr>\n",
       "      <th>8</th>\n",
       "      <td>-13.1654</td>\n",
       "      <td>141.9715</td>\n",
       "      <td>317.2</td>\n",
       "      <td>1.0</td>\n",
       "      <td>1.0</td>\n",
       "      <td>57</td>\n",
       "      <td>1</td>\n",
       "      <td>72</td>\n",
       "      <td>300.0</td>\n",
       "      <td>9.9</td>\n",
       "      <td>1</td>\n",
       "      <td>0</td>\n",
       "      <td>2</td>\n",
       "    </tr>\n",
       "    <tr>\n",
       "      <th>12</th>\n",
       "      <td>-12.7626</td>\n",
       "      <td>142.1759</td>\n",
       "      <td>335.2</td>\n",
       "      <td>1.0</td>\n",
       "      <td>1.0</td>\n",
       "      <td>57</td>\n",
       "      <td>1</td>\n",
       "      <td>88</td>\n",
       "      <td>301.7</td>\n",
       "      <td>30.1</td>\n",
       "      <td>1</td>\n",
       "      <td>0</td>\n",
       "      <td>2</td>\n",
       "    </tr>\n",
       "    <tr>\n",
       "      <th>21</th>\n",
       "      <td>-12.6491</td>\n",
       "      <td>134.3953</td>\n",
       "      <td>324.9</td>\n",
       "      <td>2.4</td>\n",
       "      <td>1.5</td>\n",
       "      <td>57</td>\n",
       "      <td>1</td>\n",
       "      <td>79</td>\n",
       "      <td>300.6</td>\n",
       "      <td>57.7</td>\n",
       "      <td>1</td>\n",
       "      <td>0</td>\n",
       "      <td>2</td>\n",
       "    </tr>\n",
       "    <tr>\n",
       "      <th>...</th>\n",
       "      <td>...</td>\n",
       "      <td>...</td>\n",
       "      <td>...</td>\n",
       "      <td>...</td>\n",
       "      <td>...</td>\n",
       "      <td>...</td>\n",
       "      <td>...</td>\n",
       "      <td>...</td>\n",
       "      <td>...</td>\n",
       "      <td>...</td>\n",
       "      <td>...</td>\n",
       "      <td>...</td>\n",
       "      <td>...</td>\n",
       "    </tr>\n",
       "    <tr>\n",
       "      <th>35999</th>\n",
       "      <td>-16.7117</td>\n",
       "      <td>124.8318</td>\n",
       "      <td>325.0</td>\n",
       "      <td>2.1</td>\n",
       "      <td>1.4</td>\n",
       "      <td>1641</td>\n",
       "      <td>0</td>\n",
       "      <td>100</td>\n",
       "      <td>294.9</td>\n",
       "      <td>60.9</td>\n",
       "      <td>0</td>\n",
       "      <td>0</td>\n",
       "      <td>2</td>\n",
       "    </tr>\n",
       "    <tr>\n",
       "      <th>36000</th>\n",
       "      <td>-16.7083</td>\n",
       "      <td>124.8126</td>\n",
       "      <td>315.2</td>\n",
       "      <td>2.1</td>\n",
       "      <td>1.4</td>\n",
       "      <td>1641</td>\n",
       "      <td>0</td>\n",
       "      <td>91</td>\n",
       "      <td>294.3</td>\n",
       "      <td>33.9</td>\n",
       "      <td>0</td>\n",
       "      <td>0</td>\n",
       "      <td>2</td>\n",
       "    </tr>\n",
       "    <tr>\n",
       "      <th>36005</th>\n",
       "      <td>-28.0640</td>\n",
       "      <td>131.6209</td>\n",
       "      <td>323.5</td>\n",
       "      <td>1.2</td>\n",
       "      <td>1.1</td>\n",
       "      <td>1644</td>\n",
       "      <td>0</td>\n",
       "      <td>100</td>\n",
       "      <td>293.9</td>\n",
       "      <td>27.4</td>\n",
       "      <td>0</td>\n",
       "      <td>0</td>\n",
       "      <td>2</td>\n",
       "    </tr>\n",
       "    <tr>\n",
       "      <th>36006</th>\n",
       "      <td>-28.0656</td>\n",
       "      <td>131.6334</td>\n",
       "      <td>312.7</td>\n",
       "      <td>1.2</td>\n",
       "      <td>1.1</td>\n",
       "      <td>1644</td>\n",
       "      <td>0</td>\n",
       "      <td>85</td>\n",
       "      <td>292.9</td>\n",
       "      <td>14.2</td>\n",
       "      <td>0</td>\n",
       "      <td>0</td>\n",
       "      <td>2</td>\n",
       "    </tr>\n",
       "    <tr>\n",
       "      <th>36010</th>\n",
       "      <td>-30.8641</td>\n",
       "      <td>121.4995</td>\n",
       "      <td>309.1</td>\n",
       "      <td>1.8</td>\n",
       "      <td>1.3</td>\n",
       "      <td>1645</td>\n",
       "      <td>0</td>\n",
       "      <td>77</td>\n",
       "      <td>290.9</td>\n",
       "      <td>23.0</td>\n",
       "      <td>0</td>\n",
       "      <td>2</td>\n",
       "      <td>2</td>\n",
       "    </tr>\n",
       "  </tbody>\n",
       "</table>\n",
       "<p>17741 rows × 13 columns</p>\n",
       "</div>"
      ],
      "text/plain": [
       "       latitude  longitude  brightness  scan  track  acq_time  satellite  \\\n",
       "1      -11.7924   142.0850       319.3   1.0    1.0        56          1   \n",
       "7      -14.3195   143.5198       322.9   1.2    1.1        57          1   \n",
       "8      -13.1654   141.9715       317.2   1.0    1.0        57          1   \n",
       "12     -12.7626   142.1759       335.2   1.0    1.0        57          1   \n",
       "21     -12.6491   134.3953       324.9   2.4    1.5        57          1   \n",
       "...         ...        ...         ...   ...    ...       ...        ...   \n",
       "35999  -16.7117   124.8318       325.0   2.1    1.4      1641          0   \n",
       "36000  -16.7083   124.8126       315.2   2.1    1.4      1641          0   \n",
       "36005  -28.0640   131.6209       323.5   1.2    1.1      1644          0   \n",
       "36006  -28.0656   131.6334       312.7   1.2    1.1      1644          0   \n",
       "36010  -30.8641   121.4995       309.1   1.8    1.3      1645          0   \n",
       "\n",
       "       confidence  bright_t31   frp  daynight  type conf_cat  \n",
       "1              71       297.3  11.3         1     0        2  \n",
       "7              79       290.9  20.4         1     0        2  \n",
       "8              72       300.0   9.9         1     0        2  \n",
       "12             88       301.7  30.1         1     0        2  \n",
       "21             79       300.6  57.7         1     0        2  \n",
       "...           ...         ...   ...       ...   ...      ...  \n",
       "35999         100       294.9  60.9         0     0        2  \n",
       "36000          91       294.3  33.9         0     0        2  \n",
       "36005         100       293.9  27.4         0     0        2  \n",
       "36006          85       292.9  14.2         0     0        2  \n",
       "36010          77       290.9  23.0         0     2        2  \n",
       "\n",
       "[17741 rows x 13 columns]"
      ]
     },
     "execution_count": 137,
     "metadata": {},
     "output_type": "execute_result"
    }
   ],
   "source": [
    "bins = [0.0, 40.0, 70.0, 100.0] \n",
    "labels = [0,1,2]\n",
    "fire_class = fire\n",
    "fire_class['conf_cat'] = pd.cut(fire['confidence'], bins=bins, labels=labels)\n",
    "\n",
    "low_class= fire_class[fire_class.conf_cat == 0] #prints the instances that have low confidence\n",
    "mid_class= fire_class[fire_class.conf_cat == 1] #prints the instances that have mid confidence\n",
    "high_class= fire_class[fire_class.conf_cat == 2] #prints the instances that have high confidence\n",
    "high_class"
   ]
  },
  {
   "cell_type": "markdown",
   "metadata": {},
   "source": [
    "# Finding Correlating Features for each class Using Feature Importance"
   ]
  },
  {
   "cell_type": "code",
   "execution_count": 96,
   "metadata": {},
   "outputs": [
    {
     "name": "stdout",
     "output_type": "stream",
     "text": [
      "[0.14917958 0.14940739 0.15164312 0.07815101 0.05062904 0.10403833\n",
      " 0.0127862  0.15080243 0.14865293 0.00196089 0.00274908 0.        ]\n"
     ]
    },
    {
     "data": {
      "image/png": "[encoded data removed]",
      "text/plain": [
       "<Figure size 432x288 with 1 Axes>"
      ]
     },
     "metadata": {
      "needs_background": "light"
     },
     "output_type": "display_data"
    }
   ],
   "source": [
    "from sklearn.ensemble import ExtraTreesClassifier\n",
    "featimp_fire_attributes = low_class.drop(['confidence'], axis=1)\n",
    "featimp_fire_class = low_class[\"confidence\"]\n",
    "model = ExtraTreesClassifier()\n",
    "model.fit(featimp_fire_attributes,featimp_fire_class)\n",
    "print(model.feature_importances_) #use inbuilt class feature_importances of tree based classifiers\n",
    "#plot graph of feature importances for better visualization\n",
    "feat_importances = pd.Series(model.feature_importances_, index=featimp_fire_attributes.columns)\n",
    "feat_importances.nlargest(10).plot(kind='barh')\n",
    "plt.show()"
   ]
  },
  {
   "cell_type": "code",
   "execution_count": 97,
   "metadata": {},
   "outputs": [
    {
     "name": "stdout",
     "output_type": "stream",
     "text": [
      "[0.15266183 0.15193239 0.16569537 0.07239861 0.04159241 0.0998965\n",
      " 0.00679407 0.14986676 0.15496308 0.00133581 0.00286317 0.        ]\n"
     ]
    },
    {
     "data": {
      "image/png": "[encoded data removed]",
      "text/plain": [
       "<Figure size 432x288 with 1 Axes>"
      ]
     },
     "metadata": {
      "needs_background": "light"
     },
     "output_type": "display_data"
    }
   ],
   "source": [
    "from sklearn.ensemble import ExtraTreesClassifier\n",
    "featimp_fire_attributes = mid_class.drop(['confidence'], axis=1)\n",
    "featimp_fire_class = mid_class[\"confidence\"]\n",
    "model = ExtraTreesClassifier()\n",
    "model.fit(featimp_fire_attributes,featimp_fire_class)\n",
    "print(model.feature_importances_) #use inbuilt class feature_importances of tree based classifiers\n",
    "#plot graph of feature importances for better visualization\n",
    "feat_importances = pd.Series(model.feature_importances_, index=featimp_fire_attributes.columns)\n",
    "feat_importances.nlargest(10).plot(kind='barh')\n",
    "plt.show()"
   ]
  },
  {
   "cell_type": "code",
   "execution_count": 98,
   "metadata": {},
   "outputs": [
    {
     "name": "stdout",
     "output_type": "stream",
     "text": [
      "[0.1195831  0.11914334 0.25914292 0.0550879  0.0307197  0.0840697\n",
      " 0.00598249 0.12266977 0.18747944 0.01415838 0.00196325 0.        ]\n"
     ]
    },
    {
     "data": {
      "image/png": "[encoded data removed]",
      "text/plain": [
       "<Figure size 432x288 with 1 Axes>"
      ]
     },
     "metadata": {
      "needs_background": "light"
     },
     "output_type": "display_data"
    }
   ],
   "source": [
    "from sklearn.ensemble import ExtraTreesClassifier\n",
    "featimp_fire_attributes = high_class.drop(['confidence'], axis=1)\n",
    "featimp_fire_class = high_class[\"confidence\"]\n",
    "model = ExtraTreesClassifier()\n",
    "model.fit(featimp_fire_attributes,featimp_fire_class)\n",
    "print(model.feature_importances_) #use inbuilt class feature_importances of tree based classifiers\n",
    "#plot graph of feature importances for better visualization\n",
    "feat_importances = pd.Series(model.feature_importances_, index=featimp_fire_attributes.columns)\n",
    "feat_importances.nlargest(10).plot(kind='barh')\n",
    "plt.show()"
   ]
  },
  {
   "cell_type": "markdown",
   "metadata": {},
   "source": [
    "Dataset 1 containing 2 most correlated features for the 3 classes (brightness frp and bright_t31)"
   ]
  },
  {
   "cell_type": "code",
   "execution_count": 99,
   "metadata": {},
   "outputs": [
    {
     "data": {
      "text/html": [
       "<div>\n",
       "<style scoped>\n",
       "    .dataframe tbody tr th:only-of-type {\n",
       "        vertical-align: middle;\n",
       "    }\n",
       "\n",
       "    .dataframe tbody tr th {\n",
       "        vertical-align: top;\n",
       "    }\n",
       "\n",
       "    .dataframe thead th {\n",
       "        text-align: right;\n",
       "    }\n",
       "</style>\n",
       "<table border=\"1\" class=\"dataframe\">\n",
       "  <thead>\n",
       "    <tr style=\"text-align: right;\">\n",
       "      <th></th>\n",
       "      <th>brightness</th>\n",
       "      <th>confidence</th>\n",
       "      <th>bright_t31</th>\n",
       "      <th>frp</th>\n",
       "      <th>conf_cat</th>\n",
       "    </tr>\n",
       "  </thead>\n",
       "  <tbody>\n",
       "    <tr>\n",
       "      <th>0</th>\n",
       "      <td>313.0</td>\n",
       "      <td>48</td>\n",
       "      <td>297.3</td>\n",
       "      <td>6.6</td>\n",
       "      <td>1</td>\n",
       "    </tr>\n",
       "    <tr>\n",
       "      <th>1</th>\n",
       "      <td>319.3</td>\n",
       "      <td>71</td>\n",
       "      <td>297.3</td>\n",
       "      <td>11.3</td>\n",
       "      <td>2</td>\n",
       "    </tr>\n",
       "    <tr>\n",
       "      <th>2</th>\n",
       "      <td>311.6</td>\n",
       "      <td>42</td>\n",
       "      <td>298.7</td>\n",
       "      <td>23.1</td>\n",
       "      <td>1</td>\n",
       "    </tr>\n",
       "    <tr>\n",
       "      <th>3</th>\n",
       "      <td>310.1</td>\n",
       "      <td>33</td>\n",
       "      <td>296.1</td>\n",
       "      <td>6.5</td>\n",
       "      <td>0</td>\n",
       "    </tr>\n",
       "    <tr>\n",
       "      <th>4</th>\n",
       "      <td>310.3</td>\n",
       "      <td>36</td>\n",
       "      <td>298.8</td>\n",
       "      <td>27.6</td>\n",
       "      <td>0</td>\n",
       "    </tr>\n",
       "  </tbody>\n",
       "</table>\n",
       "</div>"
      ],
      "text/plain": [
       "   brightness  confidence  bright_t31   frp conf_cat\n",
       "0       313.0          48       297.3   6.6        1\n",
       "1       319.3          71       297.3  11.3        2\n",
       "2       311.6          42       298.7  23.1        1\n",
       "3       310.1          33       296.1   6.5        0\n",
       "4       310.3          36       298.8  27.6        0"
      ]
     },
     "execution_count": 99,
     "metadata": {},
     "output_type": "execute_result"
    }
   ],
   "source": [
    "fire_class_dataset1 = fire_class\n",
    "fire_class_dataset1 = fire_class_dataset1.drop(['latitude', 'longitude', 'scan', 'track','acq_time','satellite','daynight','type'], axis=1)\n",
    "fire_class_dataset1.head()"
   ]
  },
  {
   "cell_type": "markdown",
   "metadata": {},
   "source": [
    "Dataset2 containing top 5 correlated features(brightness, frp, latitude, longitude, bright_t31)"
   ]
  },
  {
   "cell_type": "code",
   "execution_count": 73,
   "metadata": {},
   "outputs": [
    {
     "data": {
      "text/html": [
       "<div>\n",
       "<style scoped>\n",
       "    .dataframe tbody tr th:only-of-type {\n",
       "        vertical-align: middle;\n",
       "    }\n",
       "\n",
       "    .dataframe tbody tr th {\n",
       "        vertical-align: top;\n",
       "    }\n",
       "\n",
       "    .dataframe thead th {\n",
       "        text-align: right;\n",
       "    }\n",
       "</style>\n",
       "<table border=\"1\" class=\"dataframe\">\n",
       "  <thead>\n",
       "    <tr style=\"text-align: right;\">\n",
       "      <th></th>\n",
       "      <th>latitude</th>\n",
       "      <th>longitude</th>\n",
       "      <th>brightness</th>\n",
       "      <th>confidence</th>\n",
       "      <th>bright_t31</th>\n",
       "      <th>frp</th>\n",
       "      <th>conf_cat</th>\n",
       "    </tr>\n",
       "  </thead>\n",
       "  <tbody>\n",
       "    <tr>\n",
       "      <th>0</th>\n",
       "      <td>-11.8070</td>\n",
       "      <td>142.0583</td>\n",
       "      <td>313.0</td>\n",
       "      <td>48</td>\n",
       "      <td>297.3</td>\n",
       "      <td>6.6</td>\n",
       "      <td>1</td>\n",
       "    </tr>\n",
       "    <tr>\n",
       "      <th>1</th>\n",
       "      <td>-11.7924</td>\n",
       "      <td>142.0850</td>\n",
       "      <td>319.3</td>\n",
       "      <td>71</td>\n",
       "      <td>297.3</td>\n",
       "      <td>11.3</td>\n",
       "      <td>2</td>\n",
       "    </tr>\n",
       "    <tr>\n",
       "      <th>2</th>\n",
       "      <td>-12.8398</td>\n",
       "      <td>132.8744</td>\n",
       "      <td>311.6</td>\n",
       "      <td>42</td>\n",
       "      <td>298.7</td>\n",
       "      <td>23.1</td>\n",
       "      <td>1</td>\n",
       "    </tr>\n",
       "    <tr>\n",
       "      <th>3</th>\n",
       "      <td>-14.4306</td>\n",
       "      <td>143.3035</td>\n",
       "      <td>310.1</td>\n",
       "      <td>33</td>\n",
       "      <td>296.1</td>\n",
       "      <td>6.5</td>\n",
       "      <td>0</td>\n",
       "    </tr>\n",
       "    <tr>\n",
       "      <th>4</th>\n",
       "      <td>-12.4953</td>\n",
       "      <td>131.4897</td>\n",
       "      <td>310.3</td>\n",
       "      <td>36</td>\n",
       "      <td>298.8</td>\n",
       "      <td>27.6</td>\n",
       "      <td>0</td>\n",
       "    </tr>\n",
       "  </tbody>\n",
       "</table>\n",
       "</div>"
      ],
      "text/plain": [
       "   latitude  longitude  brightness  confidence  bright_t31   frp conf_cat\n",
       "0  -11.8070   142.0583       313.0          48       297.3   6.6        1\n",
       "1  -11.7924   142.0850       319.3          71       297.3  11.3        2\n",
       "2  -12.8398   132.8744       311.6          42       298.7  23.1        1\n",
       "3  -14.4306   143.3035       310.1          33       296.1   6.5        0\n",
       "4  -12.4953   131.4897       310.3          36       298.8  27.6        0"
      ]
     },
     "execution_count": 73,
     "metadata": {},
     "output_type": "execute_result"
    }
   ],
   "source": [
    "fire_class_dataset2 = fire_class\n",
    "fire_class_dataset2 = fire_class_dataset2.drop([ 'scan', 'track','acq_time','satellite','daynight','type'], axis=1)\n",
    "fire_class_dataset2.head()"
   ]
  },
  {
   "cell_type": "markdown",
   "metadata": {},
   "source": [
    "Dataset3 containing top 7 correlated features(brightness, frp, latitude, longitude, bright_t31, scan, acq_time, track)"
   ]
  },
  {
   "cell_type": "code",
   "execution_count": 100,
   "metadata": {},
   "outputs": [
    {
     "data": {
      "text/html": [
       "<div>\n",
       "<style scoped>\n",
       "    .dataframe tbody tr th:only-of-type {\n",
       "        vertical-align: middle;\n",
       "    }\n",
       "\n",
       "    .dataframe tbody tr th {\n",
       "        vertical-align: top;\n",
       "    }\n",
       "\n",
       "    .dataframe thead th {\n",
       "        text-align: right;\n",
       "    }\n",
       "</style>\n",
       "<table border=\"1\" class=\"dataframe\">\n",
       "  <thead>\n",
       "    <tr style=\"text-align: right;\">\n",
       "      <th></th>\n",
       "      <th>latitude</th>\n",
       "      <th>longitude</th>\n",
       "      <th>brightness</th>\n",
       "      <th>scan</th>\n",
       "      <th>acq_time</th>\n",
       "      <th>confidence</th>\n",
       "      <th>bright_t31</th>\n",
       "      <th>frp</th>\n",
       "      <th>conf_cat</th>\n",
       "    </tr>\n",
       "  </thead>\n",
       "  <tbody>\n",
       "    <tr>\n",
       "      <th>0</th>\n",
       "      <td>-11.8070</td>\n",
       "      <td>142.0583</td>\n",
       "      <td>313.0</td>\n",
       "      <td>1.0</td>\n",
       "      <td>56</td>\n",
       "      <td>48</td>\n",
       "      <td>297.3</td>\n",
       "      <td>6.6</td>\n",
       "      <td>1</td>\n",
       "    </tr>\n",
       "    <tr>\n",
       "      <th>1</th>\n",
       "      <td>-11.7924</td>\n",
       "      <td>142.0850</td>\n",
       "      <td>319.3</td>\n",
       "      <td>1.0</td>\n",
       "      <td>56</td>\n",
       "      <td>71</td>\n",
       "      <td>297.3</td>\n",
       "      <td>11.3</td>\n",
       "      <td>2</td>\n",
       "    </tr>\n",
       "    <tr>\n",
       "      <th>2</th>\n",
       "      <td>-12.8398</td>\n",
       "      <td>132.8744</td>\n",
       "      <td>311.6</td>\n",
       "      <td>3.1</td>\n",
       "      <td>57</td>\n",
       "      <td>42</td>\n",
       "      <td>298.7</td>\n",
       "      <td>23.1</td>\n",
       "      <td>1</td>\n",
       "    </tr>\n",
       "    <tr>\n",
       "      <th>3</th>\n",
       "      <td>-14.4306</td>\n",
       "      <td>143.3035</td>\n",
       "      <td>310.1</td>\n",
       "      <td>1.1</td>\n",
       "      <td>57</td>\n",
       "      <td>33</td>\n",
       "      <td>296.1</td>\n",
       "      <td>6.5</td>\n",
       "      <td>0</td>\n",
       "    </tr>\n",
       "    <tr>\n",
       "      <th>4</th>\n",
       "      <td>-12.4953</td>\n",
       "      <td>131.4897</td>\n",
       "      <td>310.3</td>\n",
       "      <td>4.0</td>\n",
       "      <td>57</td>\n",
       "      <td>36</td>\n",
       "      <td>298.8</td>\n",
       "      <td>27.6</td>\n",
       "      <td>0</td>\n",
       "    </tr>\n",
       "  </tbody>\n",
       "</table>\n",
       "</div>"
      ],
      "text/plain": [
       "   latitude  longitude  brightness  scan  acq_time  confidence  bright_t31  \\\n",
       "0  -11.8070   142.0583       313.0   1.0        56          48       297.3   \n",
       "1  -11.7924   142.0850       319.3   1.0        56          71       297.3   \n",
       "2  -12.8398   132.8744       311.6   3.1        57          42       298.7   \n",
       "3  -14.4306   143.3035       310.1   1.1        57          33       296.1   \n",
       "4  -12.4953   131.4897       310.3   4.0        57          36       298.8   \n",
       "\n",
       "    frp conf_cat  \n",
       "0   6.6        1  \n",
       "1  11.3        2  \n",
       "2  23.1        1  \n",
       "3   6.5        0  \n",
       "4  27.6        0  "
      ]
     },
     "execution_count": 100,
     "metadata": {},
     "output_type": "execute_result"
    }
   ],
   "source": [
    "fire_class_dataset3 = fire_class\n",
    "fire_class_dataset3 = fire_class_dataset3.drop([ 'satellite','daynight','type','track'], axis=1)\n",
    "fire_class_dataset3.head()"
   ]
  },
  {
   "cell_type": "markdown",
   "metadata": {},
   "source": [
    "  # Scikit Learn PCA "
   ]
  },
  {
   "cell_type": "code",
   "execution_count": 113,
   "metadata": {},
   "outputs": [
    {
     "data": {
      "text/plain": [
       "array([[-0.41536427,  1.00389302,  0.33762684, ..., -0.0980141 ,\n",
       "        -0.82930942, -0.4825828 ],\n",
       "       [-0.41536427,  1.00590247,  0.34050981, ..., -0.0980141 ,\n",
       "        -0.4976003 , -0.43165021],\n",
       "       [-0.27139544,  0.86174521, -0.65401884, ..., -0.0980141 ,\n",
       "        -0.90302256, -0.30377689],\n",
       "       ...,\n",
       "       [-1.12492494, -1.26528325, -1.12502328, ..., -0.0980141 ,\n",
       "        -1.42427974, -0.49450319],\n",
       "       [-1.13520843, -1.26610905, -1.12062864, ..., -0.0980141 ,\n",
       "        -1.32424049, -0.49233585],\n",
       "       [-1.0735075 , -1.61900119, -1.88224111, ...,  9.98651662,\n",
       "        -1.03465316, -0.30486056]])"
      ]
     },
     "execution_count": 113,
     "metadata": {},
     "output_type": "execute_result"
    }
   ],
   "source": [
    "from sklearn.preprocessing import StandardScaler\n",
    "features = ['bright_t31','latitude', 'longitude', 'scan', 'track','acq_time','satellite','daynight','type','brightness','frp']\n",
    "# Separating out the features\n",
    "x = fire_class.loc[:, features].values\n",
    "# Separating out the target\n",
    "y = fire_class.loc[:,['confidence']].values\n",
    "# Standardizing the features\n",
    "x = StandardScaler().fit_transform(x)\n",
    "x"
   ]
  },
  {
   "cell_type": "code",
   "execution_count": 114,
   "metadata": {},
   "outputs": [],
   "source": [
    "from sklearn.decomposition import PCA\n",
    "pca = PCA(n_components=2)\n",
    "principalComponents = pca.fit_transform(x)\n",
    "principalDf = pd.DataFrame(data = principalComponents, columns = ['component 1', 'component 2'])"
   ]
  },
  {
   "cell_type": "code",
   "execution_count": 141,
   "metadata": {},
   "outputs": [
    {
     "data": {
      "text/html": [
       "<div>\n",
       "<style scoped>\n",
       "    .dataframe tbody tr th:only-of-type {\n",
       "        vertical-align: middle;\n",
       "    }\n",
       "\n",
       "    .dataframe tbody tr th {\n",
       "        vertical-align: top;\n",
       "    }\n",
       "\n",
       "    .dataframe thead th {\n",
       "        text-align: right;\n",
       "    }\n",
       "</style>\n",
       "<table border=\"1\" class=\"dataframe\">\n",
       "  <thead>\n",
       "    <tr style=\"text-align: right;\">\n",
       "      <th></th>\n",
       "      <th>component 1</th>\n",
       "      <th>component 2</th>\n",
       "      <th>confidence</th>\n",
       "    </tr>\n",
       "  </thead>\n",
       "  <tbody>\n",
       "    <tr>\n",
       "      <th>0</th>\n",
       "      <td>-0.092919</td>\n",
       "      <td>-1.222000</td>\n",
       "      <td>48</td>\n",
       "    </tr>\n",
       "    <tr>\n",
       "      <th>1</th>\n",
       "      <td>0.057802</td>\n",
       "      <td>-1.226101</td>\n",
       "      <td>71</td>\n",
       "    </tr>\n",
       "    <tr>\n",
       "      <th>2</th>\n",
       "      <td>0.412299</td>\n",
       "      <td>2.429671</td>\n",
       "      <td>42</td>\n",
       "    </tr>\n",
       "    <tr>\n",
       "      <th>3</th>\n",
       "      <td>-0.315188</td>\n",
       "      <td>-0.837316</td>\n",
       "      <td>33</td>\n",
       "    </tr>\n",
       "    <tr>\n",
       "      <th>4</th>\n",
       "      <td>0.526831</td>\n",
       "      <td>3.724639</td>\n",
       "      <td>36</td>\n",
       "    </tr>\n",
       "    <tr>\n",
       "      <th>...</th>\n",
       "      <td>...</td>\n",
       "      <td>...</td>\n",
       "      <td>...</td>\n",
       "    </tr>\n",
       "    <tr>\n",
       "      <th>36006</th>\n",
       "      <td>-2.562868</td>\n",
       "      <td>-0.431047</td>\n",
       "      <td>85</td>\n",
       "    </tr>\n",
       "    <tr>\n",
       "      <th>36007</th>\n",
       "      <td>-2.817568</td>\n",
       "      <td>-0.840503</td>\n",
       "      <td>27</td>\n",
       "    </tr>\n",
       "    <tr>\n",
       "      <th>36008</th>\n",
       "      <td>-2.916588</td>\n",
       "      <td>-0.827088</td>\n",
       "      <td>43</td>\n",
       "    </tr>\n",
       "    <tr>\n",
       "      <th>36009</th>\n",
       "      <td>-2.880729</td>\n",
       "      <td>-0.830654</td>\n",
       "      <td>41</td>\n",
       "    </tr>\n",
       "    <tr>\n",
       "      <th>36010</th>\n",
       "      <td>-2.939012</td>\n",
       "      <td>0.420363</td>\n",
       "      <td>77</td>\n",
       "    </tr>\n",
       "  </tbody>\n",
       "</table>\n",
       "<p>36011 rows × 3 columns</p>\n",
       "</div>"
      ],
      "text/plain": [
       "       component 1  component 2  confidence\n",
       "0        -0.092919    -1.222000          48\n",
       "1         0.057802    -1.226101          71\n",
       "2         0.412299     2.429671          42\n",
       "3        -0.315188    -0.837316          33\n",
       "4         0.526831     3.724639          36\n",
       "...            ...          ...         ...\n",
       "36006    -2.562868    -0.431047          85\n",
       "36007    -2.817568    -0.840503          27\n",
       "36008    -2.916588    -0.827088          43\n",
       "36009    -2.880729    -0.830654          41\n",
       "36010    -2.939012     0.420363          77\n",
       "\n",
       "[36011 rows x 3 columns]"
      ]
     },
     "execution_count": 141,
     "metadata": {},
     "output_type": "execute_result"
    }
   ],
   "source": [
    "finalDf = pd.concat([principalDf, fire_class[['confidence']]], axis = 1)\n",
    "finalDf\n"
   ]
  },
  {
   "cell_type": "code",
   "execution_count": 142,
   "metadata": {},
   "outputs": [
    {
     "data": {
      "text/plain": [
       "array([0.27704993, 0.19335851])"
      ]
     },
     "execution_count": 142,
     "metadata": {},
     "output_type": "execute_result"
    }
   ],
   "source": [
    "pca.explained_variance_ratio_"
   ]
  },
  {
   "cell_type": "markdown",
   "metadata": {},
   "source": [
    "# Classifier"
   ]
  }
 ],
 "metadata": {
  "colab": {
   "name": "Tutorial 1  Data Exploration and Visualization (Getting to know your data).ipynb",
   "provenance": []
  },
  "kernelspec": {
   "display_name": "Python 3 (ipykernel)",
   "language": "python",
   "name": "python3"
  },
  "language_info": {
   "codemirror_mode": {
    "name": "ipython",
    "version": 3
   },
   "file_extension": ".py",
   "mimetype": "text/x-python",
   "name": "python",
   "nbconvert_exporter": "python",
   "pygments_lexer": "ipython3",
   "version": "3.9.12"
  }
 },
 "nbformat": 4,
 "nbformat_minor": 1
}
